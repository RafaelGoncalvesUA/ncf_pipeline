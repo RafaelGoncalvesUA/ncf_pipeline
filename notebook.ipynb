{
 "cells": [
  {
   "cell_type": "code",
   "execution_count": 1,
   "metadata": {},
   "outputs": [],
   "source": [
    "import torch\n",
    "from pyspark.sql import SparkSession\n",
    "from pyspark.sql.functions import *\n",
    "from pyspark.sql.types import *\n",
    "from pyspark import SparkFiles"
   ]
  },
  {
   "cell_type": "code",
   "execution_count": 10,
   "metadata": {},
   "outputs": [],
   "source": [
    "KAFKA_TOPIC = \"movielens\"\n",
    "KAFKA_BOOTSTRAP_SERVER = \"localhost:9092\"\n",
    "NUM_USERS = 162541\n",
    "NUM_MOVIES = 59047\n",
    "EMBEDDING_DIM = 10\n",
    "LR = 0.01"
   ]
  },
  {
   "cell_type": "code",
   "execution_count": 3,
   "metadata": {},
   "outputs": [
    {
     "name": "stderr",
     "output_type": "stream",
     "text": [
      "24/06/07 20:20:44 WARN Utils: Your hostname, omen resolves to a loopback address: 127.0.1.1; using 192.168.1.122 instead (on interface wlo1)\n",
      "24/06/07 20:20:44 WARN Utils: Set SPARK_LOCAL_IP if you need to bind to another address\n"
     ]
    },
    {
     "name": "stdout",
     "output_type": "stream",
     "text": [
      ":: loading settings :: url = jar:file:/home/rafael/Documentos/CAA/Project2/venv/lib/python3.10/site-packages/pyspark/jars/ivy-2.5.1.jar!/org/apache/ivy/core/settings/ivysettings.xml\n"
     ]
    },
    {
     "name": "stderr",
     "output_type": "stream",
     "text": [
      "Ivy Default Cache set to: /home/rafael/.ivy2/cache\n",
      "The jars for the packages stored in: /home/rafael/.ivy2/jars\n",
      "org.apache.spark#spark-sql-kafka-0-10_2.12 added as a dependency\n",
      ":: resolving dependencies :: org.apache.spark#spark-submit-parent-b607804e-e756-4d29-b9c9-6a28853b9e06;1.0\n",
      "\tconfs: [default]\n",
      "\tfound org.apache.spark#spark-sql-kafka-0-10_2.12;3.5.0 in central\n",
      "\tfound org.apache.spark#spark-token-provider-kafka-0-10_2.12;3.5.0 in central\n",
      "\tfound org.apache.kafka#kafka-clients;3.4.1 in central\n",
      "\tfound org.lz4#lz4-java;1.8.0 in central\n",
      "\tfound org.xerial.snappy#snappy-java;1.1.10.3 in central\n",
      "\tfound org.slf4j#slf4j-api;2.0.7 in central\n",
      "\tfound org.apache.hadoop#hadoop-client-runtime;3.3.4 in central\n",
      "\tfound org.apache.hadoop#hadoop-client-api;3.3.4 in central\n",
      "\tfound commons-logging#commons-logging;1.1.3 in central\n",
      "\tfound com.google.code.findbugs#jsr305;3.0.0 in central\n",
      "\tfound org.apache.commons#commons-pool2;2.11.1 in central\n",
      ":: resolution report :: resolve 501ms :: artifacts dl 25ms\n",
      "\t:: modules in use:\n",
      "\tcom.google.code.findbugs#jsr305;3.0.0 from central in [default]\n",
      "\tcommons-logging#commons-logging;1.1.3 from central in [default]\n",
      "\torg.apache.commons#commons-pool2;2.11.1 from central in [default]\n",
      "\torg.apache.hadoop#hadoop-client-api;3.3.4 from central in [default]\n",
      "\torg.apache.hadoop#hadoop-client-runtime;3.3.4 from central in [default]\n",
      "\torg.apache.kafka#kafka-clients;3.4.1 from central in [default]\n",
      "\torg.apache.spark#spark-sql-kafka-0-10_2.12;3.5.0 from central in [default]\n",
      "\torg.apache.spark#spark-token-provider-kafka-0-10_2.12;3.5.0 from central in [default]\n",
      "\torg.lz4#lz4-java;1.8.0 from central in [default]\n",
      "\torg.slf4j#slf4j-api;2.0.7 from central in [default]\n",
      "\torg.xerial.snappy#snappy-java;1.1.10.3 from central in [default]\n",
      "\t---------------------------------------------------------------------\n",
      "\t|                  |            modules            ||   artifacts   |\n",
      "\t|       conf       | number| search|dwnlded|evicted|| number|dwnlded|\n",
      "\t---------------------------------------------------------------------\n",
      "\t|      default     |   11  |   0   |   0   |   0   ||   11  |   0   |\n",
      "\t---------------------------------------------------------------------\n",
      ":: retrieving :: org.apache.spark#spark-submit-parent-b607804e-e756-4d29-b9c9-6a28853b9e06\n",
      "\tconfs: [default]\n",
      "\t0 artifacts copied, 11 already retrieved (0kB/8ms)\n",
      "24/06/07 20:20:45 WARN NativeCodeLoader: Unable to load native-hadoop library for your platform... using builtin-java classes where applicable\n",
      "Setting default log level to \"WARN\".\n",
      "To adjust logging level use sc.setLogLevel(newLevel). For SparkR, use setLogLevel(newLevel).\n"
     ]
    }
   ],
   "source": [
    "spark = (\n",
    "    SparkSession.builder.config(\n",
    "        \"spark.jars.packages\", \"org.apache.spark:spark-sql-kafka-0-10_2.12:3.5.0\"\n",
    "    )\n",
    "    .appName(\"recommender\")\n",
    "    .getOrCreate()\n",
    ")\n",
    "spark.sparkContext.setLogLevel(\"ERROR\")"
   ]
  },
  {
   "cell_type": "code",
   "execution_count": 4,
   "metadata": {},
   "outputs": [],
   "source": [
    "raw_data = (\n",
    "    spark.readStream.format(\"kafka\")\n",
    "    .option(\"kafka.bootstrap.servers\", KAFKA_BOOTSTRAP_SERVER)\n",
    "    .option(\"subscribe\", KAFKA_TOPIC)\n",
    "    .option(\"startingOffsets\", \"latest\")\n",
    "    .load()\n",
    ")\n",
    "\n",
    "data = (\n",
    "    raw_data.selectExpr(\"CAST(value AS STRING) as value\")\n",
    "    .select(\n",
    "        from_json(\n",
    "            \"value\", \"userId INT, movieId INT, rating DOUBLE, timestamp INT\"\n",
    "        ).alias(\"data\")\n",
    "    )\n",
    "    .select(\"data.*\")  # unpack dict\n",
    "    .selectExpr(\"userId\", \"movieId\", \"rating\")\n",
    ")"
   ]
  },
  {
   "cell_type": "code",
   "execution_count": null,
   "metadata": {},
   "outputs": [],
   "source": [
    "# define linear model for collaborative filtering\n",
    "class LinearModel(torch.nn.Module):\n",
    "    def __init__(self, num_users, num_items, k, lr):\n",
    "        super().__init__()\n",
    "        # define user matrix (U) and item matrix (I)\n",
    "        self.U = torch.nn.Parameter(torch.zeros(num_users, k))\n",
    "        self.I = torch.nn.Parameter(torch.zeros(num_items, k))\n",
    "\n",
    "        # initialise the matrices\n",
    "        torch.nn.init.xavier_uniform_(self.U)\n",
    "        torch.nn.init.xavier_uniform_(self.I)\n",
    "\n",
    "        # define the loss function\n",
    "        self.loss = torch.nn.MSELoss()\n",
    "\n",
    "        # define the optimizer\n",
    "        self.optim = torch.optim.Adam(self.parameters(), lr=lr)\n",
    "\n",
    "    def forward(self):\n",
    "        return self.U @ self.I.T\n",
    "    \n",
    "    def calculate_loss(self, actual, predicted):\n",
    "        return self.loss(actual, predicted)\n",
    "    \n",
    "    def optimise(self, loss):\n",
    "        self.optim.zero_grad()\n",
    "        loss.backward()\n",
    "        self.optim.step()\n",
    "\n",
    "    def fit(self, ratings, num_epochs=100):\n",
    "        for epoch in range(num_epochs):\n",
    "            predicted_ratings = self.forward()\n",
    "            loss = self.calculate_loss(ratings, predicted_ratings)\n",
    "            self.optimise(loss)\n",
    "            print(f\"Epoch {epoch+1}, Loss: {loss.item()}\")\n",
    "\n",
    "lin_model = LinearModel(NUM_USERS, NUM_MOVIES, EMBEDDING_DIM, LR)"
   ]
  },
  {
   "cell_type": "code",
   "execution_count": null,
   "metadata": {},
   "outputs": [],
   "source": [
    "# delete query 'ratings_' if it exists\n",
    "for q in spark.streams.active:\n",
    "    if q.name == \"ratings_\":\n",
    "        q.stop()\n",
    "\n",
    "\n",
    "def fine_tune(batch_df, batch_id):\n",
    "    if batch_df.count() == 0:\n",
    "        print(f\"[BATCH {batch_id}] Empty batch\")\n",
    "        return\n",
    "\n",
    "    # TODO: load\n",
    "    print(f\"[BATCH {batch_id}] Model loaded\")\n",
    "\n",
    "    print(f\"[BATCH {batch_id}] Fitting Model\")\n",
    "    # TODO: fit\n",
    "    print(f\"[BATCH {batch_id}] Model fitted\")\n",
    "\n",
    "    # TODO: save\n",
    "    print(f\"[BATCH {batch_id}] Model saved\")\n",
    "\n",
    "    # TODO: add column 'predictions' to batch_df\n",
    "\n",
    "    # calculate RMSE\n",
    "    # rmse = (\n",
    "    #     batch_df.withColumn(\"error\", col(\"rating\") - col(\"prediction\"))\n",
    "    #     .selectExpr(\"sqrt(avg(error*error)) as rmse\")\n",
    "    #     .collect()[0]\n",
    "    #     .rmse\n",
    "    # )\n",
    "    # print(f\"[BATCH {batch_id}] RMSE: {rmse}\")\n",
    "\n",
    "\n",
    "query = (\n",
    "    data.writeStream.trigger(processingTime=\"15 seconds\")\n",
    "    .foreachBatch(apply_to_stream)\n",
    "    .start()\n",
    ")\n",
    "\n",
    "query.awaitTermination()"
   ]
  }
 ],
 "metadata": {
  "kernelspec": {
   "display_name": "Python 3",
   "language": "python",
   "name": "python3"
  },
  "language_info": {
   "codemirror_mode": {
    "name": "ipython",
    "version": 3
   },
   "file_extension": ".py",
   "mimetype": "text/x-python",
   "name": "python",
   "nbconvert_exporter": "python",
   "pygments_lexer": "ipython3",
   "version": "3.10.12"
  }
 },
 "nbformat": 4,
 "nbformat_minor": 2
}
