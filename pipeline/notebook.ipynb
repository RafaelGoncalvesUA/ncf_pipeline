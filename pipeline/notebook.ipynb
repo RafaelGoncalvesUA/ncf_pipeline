{
 "cells": [
  {
   "cell_type": "markdown",
   "metadata": {},
   "source": [
    "## Core of the pipeline (PySpark)"
   ]
  },
  {
   "cell_type": "markdown",
   "metadata": {},
   "source": [
    "In order to dockerise this component, the present Jupyter notebook should be converted into a Python script."
   ]
  },
  {
   "cell_type": "code",
   "execution_count": 1,
   "metadata": {},
   "outputs": [
    {
     "name": "stderr",
     "output_type": "stream",
     "text": [
      "Failed to detect the name of this notebook, you can set it manually with the WANDB_NOTEBOOK_NAME environment variable to enable code saving.\n",
      "\u001b[34m\u001b[1mwandb\u001b[0m: \u001b[33mWARNING\u001b[0m If you're specifying your api key in code, ensure this code is not shared publicly.\n",
      "\u001b[34m\u001b[1mwandb\u001b[0m: \u001b[33mWARNING\u001b[0m Consider setting the WANDB_API_KEY environment variable, or running `wandb login` from the command line.\n",
      "\u001b[34m\u001b[1mwandb\u001b[0m: Appending key for api.wandb.ai to your netrc file: /home/rafael/.netrc\n",
      "\u001b[34m\u001b[1mwandb\u001b[0m: Currently logged in as: \u001b[33mrfg\u001b[0m (\u001b[33mrafaelgoncalvesua\u001b[0m). Use \u001b[1m`wandb login --relogin`\u001b[0m to force relogin\n"
     ]
    },
    {
     "data": {
      "text/html": [
       "wandb version 0.17.2 is available!  To upgrade, please run:\n",
       " $ pip install wandb --upgrade"
      ],
      "text/plain": [
       "<IPython.core.display.HTML object>"
      ]
     },
     "metadata": {},
     "output_type": "display_data"
    },
    {
     "data": {
      "text/html": [
       "Tracking run with wandb version 0.17.1"
      ],
      "text/plain": [
       "<IPython.core.display.HTML object>"
      ]
     },
     "metadata": {},
     "output_type": "display_data"
    },
    {
     "data": {
      "text/html": [
       "Run data is saved locally in <code>/home/rafael/Documentos/CAA/Project2/pipeline/wandb/run-20240619_033316-cu8mvyj9</code>"
      ],
      "text/plain": [
       "<IPython.core.display.HTML object>"
      ]
     },
     "metadata": {},
     "output_type": "display_data"
    },
    {
     "data": {
      "text/html": [
       "Syncing run <strong><a href='https://wandb.ai/rafaelgoncalvesua/proj-caa-2/runs/cu8mvyj9' target=\"_blank\">vibrant-galaxy-19</a></strong> to <a href='https://wandb.ai/rafaelgoncalvesua/proj-caa-2' target=\"_blank\">Weights & Biases</a> (<a href='https://wandb.me/run' target=\"_blank\">docs</a>)<br/>"
      ],
      "text/plain": [
       "<IPython.core.display.HTML object>"
      ]
     },
     "metadata": {},
     "output_type": "display_data"
    },
    {
     "data": {
      "text/html": [
       " View project at <a href='https://wandb.ai/rafaelgoncalvesua/proj-caa-2' target=\"_blank\">https://wandb.ai/rafaelgoncalvesua/proj-caa-2</a>"
      ],
      "text/plain": [
       "<IPython.core.display.HTML object>"
      ]
     },
     "metadata": {},
     "output_type": "display_data"
    },
    {
     "data": {
      "text/html": [
       " View run at <a href='https://wandb.ai/rafaelgoncalvesua/proj-caa-2/runs/cu8mvyj9' target=\"_blank\">https://wandb.ai/rafaelgoncalvesua/proj-caa-2/runs/cu8mvyj9</a>"
      ],
      "text/plain": [
       "<IPython.core.display.HTML object>"
      ]
     },
     "metadata": {},
     "output_type": "display_data"
    }
   ],
   "source": [
    "import torch\n",
    "from torch.utils.data import DataLoader, Dataset, random_split\n",
    "import pandas as pd\n",
    "from pyspark.sql import SparkSession\n",
    "from pyspark.sql.functions import *\n",
    "from pyspark.sql.types import *\n",
    "from pyspark import SparkFiles\n",
    "import numpy as np\n",
    "from best_model import NonLinearModel, MovieLensDataset\n",
    "import pickle"
   ]
  },
  {
   "cell_type": "code",
   "execution_count": 2,
   "metadata": {},
   "outputs": [],
   "source": [
    "KAFKA_TOPIC = \"movielens\"\n",
    "KAFKA_BOOTSTRAP_SERVER = \"localhost:9092\"\n",
    "NUM_USERS = 162541\n",
    "NUM_MOVIES = 59047\n",
    "EMBEDDING_DIM = 512\n",
    "DROPOUT = 0.2\n",
    "BATCH_SIZE = 64"
   ]
  },
  {
   "cell_type": "code",
   "execution_count": 3,
   "metadata": {},
   "outputs": [
    {
     "name": "stderr",
     "output_type": "stream",
     "text": [
      "24/06/19 03:33:19 WARN Utils: Your hostname, omen resolves to a loopback address: 127.0.1.1; using 192.168.1.122 instead (on interface wlo1)\n",
      "24/06/19 03:33:19 WARN Utils: Set SPARK_LOCAL_IP if you need to bind to another address\n"
     ]
    },
    {
     "name": "stdout",
     "output_type": "stream",
     "text": [
      ":: loading settings :: url = jar:file:/home/rafael/Documentos/CAA/Project2/venv/lib/python3.10/site-packages/pyspark/jars/ivy-2.5.1.jar!/org/apache/ivy/core/settings/ivysettings.xml\n"
     ]
    },
    {
     "name": "stderr",
     "output_type": "stream",
     "text": [
      "Ivy Default Cache set to: /home/rafael/.ivy2/cache\n",
      "The jars for the packages stored in: /home/rafael/.ivy2/jars\n",
      "org.apache.spark#spark-sql-kafka-0-10_2.12 added as a dependency\n",
      ":: resolving dependencies :: org.apache.spark#spark-submit-parent-6fa46928-36b1-41b0-8753-b8c5c1ce7fe4;1.0\n",
      "\tconfs: [default]\n",
      "\tfound org.apache.spark#spark-sql-kafka-0-10_2.12;3.5.0 in central\n",
      "\tfound org.apache.spark#spark-token-provider-kafka-0-10_2.12;3.5.0 in central\n",
      "\tfound org.apache.kafka#kafka-clients;3.4.1 in central\n",
      "\tfound org.lz4#lz4-java;1.8.0 in central\n",
      "\tfound org.xerial.snappy#snappy-java;1.1.10.3 in central\n",
      "\tfound org.slf4j#slf4j-api;2.0.7 in central\n",
      "\tfound org.apache.hadoop#hadoop-client-runtime;3.3.4 in central\n",
      "\tfound org.apache.hadoop#hadoop-client-api;3.3.4 in central\n",
      "\tfound commons-logging#commons-logging;1.1.3 in central\n",
      "\tfound com.google.code.findbugs#jsr305;3.0.0 in central\n",
      "\tfound org.apache.commons#commons-pool2;2.11.1 in central\n",
      ":: resolution report :: resolve 544ms :: artifacts dl 22ms\n",
      "\t:: modules in use:\n",
      "\tcom.google.code.findbugs#jsr305;3.0.0 from central in [default]\n",
      "\tcommons-logging#commons-logging;1.1.3 from central in [default]\n",
      "\torg.apache.commons#commons-pool2;2.11.1 from central in [default]\n",
      "\torg.apache.hadoop#hadoop-client-api;3.3.4 from central in [default]\n",
      "\torg.apache.hadoop#hadoop-client-runtime;3.3.4 from central in [default]\n",
      "\torg.apache.kafka#kafka-clients;3.4.1 from central in [default]\n",
      "\torg.apache.spark#spark-sql-kafka-0-10_2.12;3.5.0 from central in [default]\n",
      "\torg.apache.spark#spark-token-provider-kafka-0-10_2.12;3.5.0 from central in [default]\n",
      "\torg.lz4#lz4-java;1.8.0 from central in [default]\n",
      "\torg.slf4j#slf4j-api;2.0.7 from central in [default]\n",
      "\torg.xerial.snappy#snappy-java;1.1.10.3 from central in [default]\n",
      "\t---------------------------------------------------------------------\n",
      "\t|                  |            modules            ||   artifacts   |\n",
      "\t|       conf       | number| search|dwnlded|evicted|| number|dwnlded|\n",
      "\t---------------------------------------------------------------------\n",
      "\t|      default     |   11  |   0   |   0   |   0   ||   11  |   0   |\n",
      "\t---------------------------------------------------------------------\n",
      ":: retrieving :: org.apache.spark#spark-submit-parent-6fa46928-36b1-41b0-8753-b8c5c1ce7fe4\n",
      "\tconfs: [default]\n",
      "\t0 artifacts copied, 11 already retrieved (0kB/10ms)\n",
      "24/06/19 03:33:20 WARN NativeCodeLoader: Unable to load native-hadoop library for your platform... using builtin-java classes where applicable\n",
      "Setting default log level to \"WARN\".\n",
      "To adjust logging level use sc.setLogLevel(newLevel). For SparkR, use setLogLevel(newLevel).\n"
     ]
    }
   ],
   "source": [
    "spark = (\n",
    "    SparkSession.builder.config(\n",
    "        \"spark.jars.packages\", \"org.apache.spark:spark-sql-kafka-0-10_2.12:3.5.0\"\n",
    "    )\n",
    "    .appName(\"recommender\")\n",
    "    .getOrCreate()\n",
    ")\n",
    "\n",
    "sc = spark.sparkContext\n"
   ]
  },
  {
   "cell_type": "code",
   "execution_count": 4,
   "metadata": {},
   "outputs": [],
   "source": [
    "raw_data = (\n",
    "    spark.readStream.format(\"kafka\")\n",
    "    .option(\"kafka.bootstrap.servers\", KAFKA_BOOTSTRAP_SERVER)\n",
    "    .option(\"subscribe\", KAFKA_TOPIC)\n",
    "    .option(\"startingOffsets\", \"latest\")\n",
    "    .load()\n",
    ")\n",
    "\n",
    "data = (\n",
    "    raw_data.selectExpr(\"CAST(value AS STRING) as value\")\n",
    "    .select(\n",
    "        from_json(\n",
    "            \"value\", \"userId INT, movieId INT, rating DOUBLE, timestamp INT\"\n",
    "        ).alias(\"data\")\n",
    "    )\n",
    "    .select(\"data.*\")  # unpack dict\n",
    "    .selectExpr(\"userId\", \"movieId\", \"rating\")\n",
    ")\n",
    "\n",
    "sc.setLogLevel(\"OFF\")"
   ]
  },
  {
   "cell_type": "code",
   "execution_count": 5,
   "metadata": {},
   "outputs": [],
   "source": [
    "model = NonLinearModel(NUM_USERS, NUM_MOVIES, 512, 0.2)\n",
    "\n",
    "# broadcast data buffer\n",
    "broad_data_buffer = sc.broadcast([])"
   ]
  },
  {
   "cell_type": "code",
   "execution_count": 6,
   "metadata": {},
   "outputs": [
    {
     "name": "stderr",
     "output_type": "stream",
     "text": [
      "/home/rafael/.local/lib/python3.10/site-packages/sklearn/base.py:348: InconsistentVersionWarning: Trying to unpickle estimator MinMaxScaler from version 1.5.0 when using version 1.3.2. This might lead to breaking code or invalid results. Use at your own risk. For more info please refer to:\n",
      "https://scikit-learn.org/stable/model_persistence.html#security-maintainability-limitations\n",
      "  warnings.warn(\n"
     ]
    }
   ],
   "source": [
    "# load user2idx / item2idx mappings and scaler\n",
    "user2idx = pickle.load(open(\"user2idx.pkl\", \"rb\"))\n",
    "item2idx = pickle.load(open(\"item2idx.pkl\", \"rb\"))\n",
    "scaler = pickle.load(open(\"scaler.pkl\", \"rb\"))"
   ]
  },
  {
   "cell_type": "code",
   "execution_count": 7,
   "metadata": {},
   "outputs": [
    {
     "data": {
      "text/plain": [
       "array([[0.66666667],\n",
       "       [0.77777778],\n",
       "       [1.        ]])"
      ]
     },
     "execution_count": 7,
     "metadata": {},
     "output_type": "execute_result"
    }
   ],
   "source": [
    "# test scaler\n",
    "scaler.transform(pd.DataFrame({\"rating\": [3.5, 4.0, 5.0]}))"
   ]
  },
  {
   "cell_type": "code",
   "execution_count": 8,
   "metadata": {},
   "outputs": [
    {
     "data": {
      "text/plain": [
       "(142046, 23238)"
      ]
     },
     "execution_count": 8,
     "metadata": {},
     "output_type": "execute_result"
    }
   ],
   "source": [
    "len(user2idx), len(item2idx)"
   ]
  },
  {
   "cell_type": "code",
   "execution_count": 9,
   "metadata": {},
   "outputs": [
    {
     "name": "stderr",
     "output_type": "stream",
     "text": [
      "/home/rafael/.local/lib/python3.10/site-packages/sklearn/base.py:465: UserWarning: X does not have valid feature names, but MinMaxScaler was fitted with feature names\n",
      "  warnings.warn(\n"
     ]
    }
   ],
   "source": [
    "# static test dataset and user/item index mapping\n",
    "test_df = pd.read_csv(\"../data/ratings_test.csv\", nrows=100000)\n",
    "\n",
    "for user in test_df['userId']:\n",
    "    if user not in user2idx:\n",
    "        user2idx[user] = len(user2idx)\n",
    "\n",
    "for item in test_df['movieId']:\n",
    "    if item not in item2idx:\n",
    "        item2idx[item] = len(item2idx)    \n",
    "\n",
    "test_df['userId'] = test_df['userId'].map(user2idx)\n",
    "test_df['movieId'] = test_df['movieId'].map(item2idx)\n",
    "test_df['rating'] = scaler.transform(test_df[['rating']].values.reshape(-1, 1))\n",
    "test_loader = DataLoader(MovieLensDataset(test_df), batch_size=BATCH_SIZE, shuffle=False)\n"
   ]
  },
  {
   "cell_type": "code",
   "execution_count": 10,
   "metadata": {},
   "outputs": [],
   "source": [
    "!rm model.pth\n",
    "!cp model_original.pth model.pth"
   ]
  },
  {
   "cell_type": "code",
   "execution_count": 11,
   "metadata": {},
   "outputs": [
    {
     "name": "stdout",
     "output_type": "stream",
     "text": [
      "RMSE: 2.9623490796321086, MSE: 8.775512069597202\n"
     ]
    }
   ],
   "source": [
    "model.load_state_dict(torch.load(\"model.pth\"))\n",
    "device = torch.device(\"cuda\" if torch.cuda.is_available() else \"cpu\")\n",
    "model.to(device)\n",
    "mse = model.evaluate(test_loader, device)\n",
    "# model.log({\"test_loss\": mse}) # initial loss\n",
    "rmse = np.sqrt(mse)\n",
    "print(f\"RMSE: {rmse}, MSE: {mse}\")"
   ]
  },
  {
   "cell_type": "markdown",
   "metadata": {},
   "source": [
    "### Query\n",
    "We process the data for 5 hours **OR** until the data is exhausted **OR** until there are no computational resources available."
   ]
  },
  {
   "cell_type": "code",
   "execution_count": 12,
   "metadata": {},
   "outputs": [
    {
     "name": "stderr",
     "output_type": "stream",
     "text": [
      "                                                                                \r"
     ]
    },
    {
     "name": "stdout",
     "output_type": "stream",
     "text": [
      "[BATCH 0] Empty batch\n"
     ]
    },
    {
     "name": "stderr",
     "output_type": "stream",
     "text": [
      "                                                                                \r"
     ]
    },
    {
     "name": "stdout",
     "output_type": "stream",
     "text": [
      "[BATCH 1] Current buffer size: 4219\n",
      "[BATCH 2] Current buffer size: 17517\n",
      "[BATCH 3] Model loaded\n",
      "[BATCH 3] Data scaled\n"
     ]
    },
    {
     "name": "stderr",
     "output_type": "stream",
     "text": [
      "/home/rafael/.local/lib/python3.10/site-packages/sklearn/base.py:465: UserWarning: X does not have valid feature names, but MinMaxScaler was fitted with feature names\n",
      "  warnings.warn(\n"
     ]
    },
    {
     "name": "stdout",
     "output_type": "stream",
     "text": [
      "[BATCH 3] All preprocessing done\n",
      "[BATCH 3] Fitting Model\n",
      "Training on cuda\n",
      "Epoch 1/10, Train Loss: 0.4212, Eval Loss: 0.0833\n",
      "Epoch 2/10, Train Loss: 0.1091, Eval Loss: 0.0610\n",
      "Epoch 3/10, Train Loss: 0.0904, Eval Loss: 0.0618\n",
      "Epoch 4/10, Train Loss: 0.0755, Eval Loss: 0.0698\n",
      "Epoch 5/10, Train Loss: 0.0665, Eval Loss: 0.0669\n",
      "Epoch 6/10, Train Loss: 0.0588, Eval Loss: 0.0676\n",
      "Epoch 7/10, Train Loss: 0.0528, Eval Loss: 0.0607\n",
      "Epoch 8/10, Train Loss: 0.0475, Eval Loss: 0.0555\n",
      "Epoch 9/10, Train Loss: 0.0435, Eval Loss: 0.0585\n",
      "Epoch 10/10, Train Loss: 0.0408, Eval Loss: 0.0595\n",
      "Test Loss: 0.0584\n",
      "[BATCH 3] Model fitted\n",
      "[BATCH 3] Model saved\n",
      "[BATCH 4] Current buffer size: 11864\n"
     ]
    },
    {
     "name": "stderr",
     "output_type": "stream",
     "text": [
      "                                                                                \r"
     ]
    },
    {
     "name": "stdout",
     "output_type": "stream",
     "text": [
      "[BATCH 5] Model loaded\n",
      "[BATCH 5] Data scaled\n"
     ]
    },
    {
     "name": "stderr",
     "output_type": "stream",
     "text": [
      "/home/rafael/.local/lib/python3.10/site-packages/sklearn/base.py:465: UserWarning: X does not have valid feature names, but MinMaxScaler was fitted with feature names\n",
      "  warnings.warn(\n"
     ]
    },
    {
     "name": "stdout",
     "output_type": "stream",
     "text": [
      "[BATCH 5] All preprocessing done\n",
      "[BATCH 5] Fitting Model\n",
      "Training on cuda\n",
      "Epoch 1/10, Train Loss: 0.0758, Eval Loss: 0.0497\n",
      "Epoch 2/10, Train Loss: 0.0590, Eval Loss: 0.0528\n",
      "Epoch 3/10, Train Loss: 0.0476, Eval Loss: 0.0511\n",
      "Epoch 4/10, Train Loss: 0.0403, Eval Loss: 0.0580\n",
      "Epoch 5/10, Train Loss: 0.0336, Eval Loss: 0.0537\n",
      "Epoch 6/10, Train Loss: 0.0297, Eval Loss: 0.0536\n",
      "Epoch 7/10, Train Loss: 0.0279, Eval Loss: 0.0527\n",
      "Epoch 8/10, Train Loss: 0.0243, Eval Loss: 0.0558\n",
      "Epoch 9/10, Train Loss: 0.0217, Eval Loss: 0.0537\n",
      "Epoch 10/10, Train Loss: 0.0199, Eval Loss: 0.0533\n",
      "Test Loss: 0.0519\n",
      "[BATCH 5] Model fitted\n",
      "[BATCH 5] Model saved\n",
      "[BATCH 6] Current buffer size: 6543\n"
     ]
    },
    {
     "name": "stderr",
     "output_type": "stream",
     "text": [
      "                                                                                \r"
     ]
    },
    {
     "name": "stdout",
     "output_type": "stream",
     "text": [
      "[BATCH 7] Model loaded\n",
      "[BATCH 7] Data scaled\n"
     ]
    },
    {
     "name": "stderr",
     "output_type": "stream",
     "text": [
      "/home/rafael/.local/lib/python3.10/site-packages/sklearn/base.py:465: UserWarning: X does not have valid feature names, but MinMaxScaler was fitted with feature names\n",
      "  warnings.warn(\n"
     ]
    },
    {
     "name": "stdout",
     "output_type": "stream",
     "text": [
      "[BATCH 7] All preprocessing done\n",
      "[BATCH 7] Fitting Model\n",
      "Training on cuda\n",
      "Epoch 1/10, Train Loss: 0.0580, Eval Loss: 0.0469\n",
      "Epoch 2/10, Train Loss: 0.0423, Eval Loss: 0.0479\n",
      "Epoch 3/10, Train Loss: 0.0309, Eval Loss: 0.0547\n",
      "Epoch 4/10, Train Loss: 0.0236, Eval Loss: 0.0578\n",
      "Epoch 5/10, Train Loss: 0.0196, Eval Loss: 0.0537\n",
      "Epoch 6/10, Train Loss: 0.0164, Eval Loss: 0.0525\n",
      "Epoch 7/10, Train Loss: 0.0145, Eval Loss: 0.0528\n",
      "Epoch 8/10, Train Loss: 0.0125, Eval Loss: 0.0538\n",
      "Epoch 9/10, Train Loss: 0.0114, Eval Loss: 0.0527\n",
      "Epoch 10/10, Train Loss: 0.0103, Eval Loss: 0.0526\n",
      "Test Loss: 0.0516\n",
      "[BATCH 7] Model fitted\n",
      "[BATCH 7] Model saved\n",
      "[BATCH 8] Current buffer size: 1603\n",
      "[BATCH 9] Current buffer size: 16129\n",
      "[BATCH 10] Model loaded\n",
      "[BATCH 10] Data scaled\n"
     ]
    },
    {
     "name": "stderr",
     "output_type": "stream",
     "text": [
      "/home/rafael/.local/lib/python3.10/site-packages/sklearn/base.py:465: UserWarning: X does not have valid feature names, but MinMaxScaler was fitted with feature names\n",
      "  warnings.warn(\n"
     ]
    },
    {
     "name": "stdout",
     "output_type": "stream",
     "text": [
      "[BATCH 10] All preprocessing done\n",
      "[BATCH 10] Fitting Model\n",
      "Training on cuda\n",
      "Epoch 1/10, Train Loss: 0.0509, Eval Loss: 0.0461\n",
      "Epoch 2/10, Train Loss: 0.0333, Eval Loss: 0.0487\n",
      "Epoch 3/10, Train Loss: 0.0223, Eval Loss: 0.0507\n",
      "Epoch 4/10, Train Loss: 0.0160, Eval Loss: 0.0518\n",
      "Epoch 5/10, Train Loss: 0.0121, Eval Loss: 0.0537\n",
      "Epoch 6/10, Train Loss: 0.0102, Eval Loss: 0.0539\n",
      "Epoch 7/10, Train Loss: 0.0089, Eval Loss: 0.0525\n",
      "Epoch 8/10, Train Loss: 0.0078, Eval Loss: 0.0528\n",
      "Epoch 9/10, Train Loss: 0.0071, Eval Loss: 0.0532\n",
      "Epoch 10/10, Train Loss: 0.0069, Eval Loss: 0.0536\n",
      "Test Loss: 0.0517\n",
      "[BATCH 10] Model fitted\n",
      "[BATCH 10] Model saved\n",
      "[BATCH 11] Current buffer size: 10873\n"
     ]
    },
    {
     "name": "stderr",
     "output_type": "stream",
     "text": [
      "                                                                                \r"
     ]
    },
    {
     "name": "stdout",
     "output_type": "stream",
     "text": [
      "[BATCH 12] Model loaded\n",
      "[BATCH 12] Data scaled\n"
     ]
    },
    {
     "name": "stderr",
     "output_type": "stream",
     "text": [
      "/home/rafael/.local/lib/python3.10/site-packages/sklearn/base.py:465: UserWarning: X does not have valid feature names, but MinMaxScaler was fitted with feature names\n",
      "  warnings.warn(\n"
     ]
    },
    {
     "name": "stdout",
     "output_type": "stream",
     "text": [
      "[BATCH 12] All preprocessing done\n",
      "[BATCH 12] Fitting Model\n",
      "Training on cuda\n",
      "Epoch 1/10, Train Loss: 0.0477, Eval Loss: 0.0441\n",
      "Epoch 2/10, Train Loss: 0.0304, Eval Loss: 0.0458\n",
      "Epoch 3/10, Train Loss: 0.0202, Eval Loss: 0.0482\n",
      "Epoch 4/10, Train Loss: 0.0141, Eval Loss: 0.0497\n",
      "Epoch 5/10, Train Loss: 0.0110, Eval Loss: 0.0505\n",
      "Epoch 6/10, Train Loss: 0.0092, Eval Loss: 0.0498\n",
      "Epoch 7/10, Train Loss: 0.0081, Eval Loss: 0.0500\n",
      "Epoch 8/10, Train Loss: 0.0073, Eval Loss: 0.0504\n",
      "Epoch 9/10, Train Loss: 0.0065, Eval Loss: 0.0504\n",
      "Epoch 10/10, Train Loss: 0.0061, Eval Loss: 0.0506\n",
      "Test Loss: 0.0513\n",
      "[BATCH 12] Model fitted\n",
      "[BATCH 12] Model saved\n",
      "[BATCH 13] Current buffer size: 5372\n"
     ]
    },
    {
     "name": "stderr",
     "output_type": "stream",
     "text": [
      "                                                                                \r"
     ]
    },
    {
     "name": "stdout",
     "output_type": "stream",
     "text": [
      "[BATCH 14] Current buffer size: 19900\n"
     ]
    },
    {
     "name": "stderr",
     "output_type": "stream",
     "text": [
      "                                                                                \r"
     ]
    },
    {
     "name": "stdout",
     "output_type": "stream",
     "text": [
      "[BATCH 15] Model loaded\n",
      "[BATCH 15] Data scaled\n"
     ]
    },
    {
     "name": "stderr",
     "output_type": "stream",
     "text": [
      "/home/rafael/.local/lib/python3.10/site-packages/sklearn/base.py:465: UserWarning: X does not have valid feature names, but MinMaxScaler was fitted with feature names\n",
      "  warnings.warn(\n"
     ]
    },
    {
     "name": "stdout",
     "output_type": "stream",
     "text": [
      "[BATCH 15] All preprocessing done\n",
      "[BATCH 15] Fitting Model\n",
      "Training on cuda\n",
      "Epoch 1/10, Train Loss: 0.0469, Eval Loss: 0.0440\n",
      "Epoch 2/10, Train Loss: 0.0312, Eval Loss: 0.0459\n",
      "Epoch 3/10, Train Loss: 0.0213, Eval Loss: 0.0472\n",
      "Epoch 4/10, Train Loss: 0.0152, Eval Loss: 0.0496\n",
      "Epoch 5/10, Train Loss: 0.0121, Eval Loss: 0.0505\n",
      "Epoch 6/10, Train Loss: 0.0103, Eval Loss: 0.0502\n",
      "Epoch 7/10, Train Loss: 0.0087, Eval Loss: 0.0508\n",
      "Epoch 8/10, Train Loss: 0.0078, Eval Loss: 0.0507\n",
      "Epoch 9/10, Train Loss: 0.0075, Eval Loss: 0.0509\n",
      "Epoch 10/10, Train Loss: 0.0069, Eval Loss: 0.0507\n",
      "Test Loss: 0.0504\n",
      "[BATCH 15] Model fitted\n",
      "[BATCH 15] Model saved\n",
      "[BATCH 16] Current buffer size: 14556\n",
      "[BATCH 17] Model loaded\n",
      "[BATCH 17] Data scaled\n"
     ]
    },
    {
     "name": "stderr",
     "output_type": "stream",
     "text": [
      "/home/rafael/.local/lib/python3.10/site-packages/sklearn/base.py:465: UserWarning: X does not have valid feature names, but MinMaxScaler was fitted with feature names\n",
      "  warnings.warn(\n"
     ]
    },
    {
     "name": "stdout",
     "output_type": "stream",
     "text": [
      "[BATCH 17] All preprocessing done\n",
      "[BATCH 17] Fitting Model\n",
      "Training on cuda\n",
      "Epoch 1/10, Train Loss: 0.0467, Eval Loss: 0.0460\n",
      "Epoch 2/10, Train Loss: 0.0318, Eval Loss: 0.0484\n",
      "Epoch 3/10, Train Loss: 0.0227, Eval Loss: 0.0489\n",
      "Epoch 4/10, Train Loss: 0.0173, Eval Loss: 0.0503\n",
      "Epoch 5/10, Train Loss: 0.0142, Eval Loss: 0.0519\n",
      "Epoch 6/10, Train Loss: 0.0124, Eval Loss: 0.0530\n",
      "Epoch 7/10, Train Loss: 0.0112, Eval Loss: 0.0530\n",
      "Epoch 8/10, Train Loss: 0.0098, Eval Loss: 0.0542\n",
      "Epoch 9/10, Train Loss: 0.0092, Eval Loss: 0.0528\n",
      "Epoch 10/10, Train Loss: 0.0086, Eval Loss: 0.0536\n",
      "Test Loss: 0.0520\n",
      "[BATCH 17] Model fitted\n",
      "[BATCH 17] Model saved\n",
      "[BATCH 18] Current buffer size: 8278\n"
     ]
    },
    {
     "name": "stderr",
     "output_type": "stream",
     "text": [
      "                                                                                \r"
     ]
    },
    {
     "name": "stdout",
     "output_type": "stream",
     "text": [
      "[BATCH 19] Model loaded\n",
      "[BATCH 19] Data scaled\n"
     ]
    },
    {
     "name": "stderr",
     "output_type": "stream",
     "text": [
      "/home/rafael/.local/lib/python3.10/site-packages/sklearn/base.py:465: UserWarning: X does not have valid feature names, but MinMaxScaler was fitted with feature names\n",
      "  warnings.warn(\n"
     ]
    },
    {
     "name": "stdout",
     "output_type": "stream",
     "text": [
      "[BATCH 19] All preprocessing done\n",
      "[BATCH 19] Fitting Model\n",
      "Training on cuda\n",
      "Epoch 1/10, Train Loss: 0.0479, Eval Loss: 0.0448\n",
      "Epoch 2/10, Train Loss: 0.0325, Eval Loss: 0.0469\n",
      "Epoch 3/10, Train Loss: 0.0228, Eval Loss: 0.0484\n",
      "Epoch 4/10, Train Loss: 0.0169, Eval Loss: 0.0505\n",
      "Epoch 5/10, Train Loss: 0.0138, Eval Loss: 0.0511\n",
      "Epoch 6/10, Train Loss: 0.0121, Eval Loss: 0.0518\n",
      "Epoch 7/10, Train Loss: 0.0109, Eval Loss: 0.0529\n",
      "Epoch 8/10, Train Loss: 0.0099, Eval Loss: 0.0522\n",
      "Epoch 9/10, Train Loss: 0.0094, Eval Loss: 0.0530\n",
      "Epoch 10/10, Train Loss: 0.0087, Eval Loss: 0.0526\n",
      "Test Loss: 0.0516\n",
      "[BATCH 19] Model fitted\n",
      "[BATCH 19] Model saved\n",
      "[BATCH 20] Current buffer size: 2657\n",
      "[BATCH 21] Current buffer size: 17222\n",
      "[BATCH 22] Model loaded\n",
      "[BATCH 22] Data scaled\n"
     ]
    },
    {
     "name": "stderr",
     "output_type": "stream",
     "text": [
      "/home/rafael/.local/lib/python3.10/site-packages/sklearn/base.py:465: UserWarning: X does not have valid feature names, but MinMaxScaler was fitted with feature names\n",
      "  warnings.warn(\n"
     ]
    },
    {
     "name": "stdout",
     "output_type": "stream",
     "text": [
      "[BATCH 22] All preprocessing done\n",
      "[BATCH 22] Fitting Model\n",
      "Training on cuda\n",
      "Epoch 1/10, Train Loss: 0.0473, Eval Loss: 0.0461\n",
      "Epoch 2/10, Train Loss: 0.0318, Eval Loss: 0.0471\n",
      "Epoch 3/10, Train Loss: 0.0231, Eval Loss: 0.0480\n",
      "Epoch 4/10, Train Loss: 0.0177, Eval Loss: 0.0495\n",
      "Epoch 5/10, Train Loss: 0.0145, Eval Loss: 0.0515\n",
      "Epoch 6/10, Train Loss: 0.0128, Eval Loss: 0.0505\n",
      "Epoch 7/10, Train Loss: 0.0117, Eval Loss: 0.0517\n",
      "Epoch 8/10, Train Loss: 0.0108, Eval Loss: 0.0517\n",
      "Epoch 9/10, Train Loss: 0.0101, Eval Loss: 0.0530\n",
      "Epoch 10/10, Train Loss: 0.0095, Eval Loss: 0.0524\n",
      "Test Loss: 0.0513\n",
      "[BATCH 22] Model fitted\n",
      "[BATCH 22] Model saved\n",
      "[BATCH 23] Current buffer size: 11435\n"
     ]
    },
    {
     "name": "stderr",
     "output_type": "stream",
     "text": [
      "                                                                                \r"
     ]
    },
    {
     "name": "stdout",
     "output_type": "stream",
     "text": [
      "[BATCH 24] Model loaded\n",
      "[BATCH 24] Data scaled\n"
     ]
    },
    {
     "name": "stderr",
     "output_type": "stream",
     "text": [
      "/home/rafael/.local/lib/python3.10/site-packages/sklearn/base.py:465: UserWarning: X does not have valid feature names, but MinMaxScaler was fitted with feature names\n",
      "  warnings.warn(\n"
     ]
    },
    {
     "name": "stdout",
     "output_type": "stream",
     "text": [
      "[BATCH 24] All preprocessing done\n",
      "[BATCH 24] Fitting Model\n",
      "Training on cuda\n",
      "Epoch 1/10, Train Loss: 0.0481, Eval Loss: 0.0442\n",
      "Epoch 2/10, Train Loss: 0.0330, Eval Loss: 0.0459\n",
      "Epoch 3/10, Train Loss: 0.0236, Eval Loss: 0.0478\n",
      "Epoch 4/10, Train Loss: 0.0181, Eval Loss: 0.0497\n",
      "Epoch 5/10, Train Loss: 0.0153, Eval Loss: 0.0500\n",
      "Epoch 6/10, Train Loss: 0.0135, Eval Loss: 0.0501\n",
      "Epoch 7/10, Train Loss: 0.0119, Eval Loss: 0.0499\n",
      "Epoch 8/10, Train Loss: 0.0115, Eval Loss: 0.0504\n",
      "Epoch 9/10, Train Loss: 0.0106, Eval Loss: 0.0509\n",
      "Epoch 10/10, Train Loss: 0.0102, Eval Loss: 0.0502\n",
      "Test Loss: 0.0511\n",
      "[BATCH 24] Model fitted\n",
      "[BATCH 24] Model saved\n",
      "[BATCH 25] Current buffer size: 4842\n",
      "[BATCH 26] Current buffer size: 19356\n",
      "[BATCH 27] Model loaded\n",
      "[BATCH 27] Data scaled\n"
     ]
    },
    {
     "name": "stderr",
     "output_type": "stream",
     "text": [
      "/home/rafael/.local/lib/python3.10/site-packages/sklearn/base.py:465: UserWarning: X does not have valid feature names, but MinMaxScaler was fitted with feature names\n",
      "  warnings.warn(\n"
     ]
    },
    {
     "name": "stdout",
     "output_type": "stream",
     "text": [
      "[BATCH 27] All preprocessing done\n",
      "[BATCH 27] Fitting Model\n",
      "Training on cuda\n",
      "Epoch 1/10, Train Loss: 0.0485, Eval Loss: 0.0451\n",
      "Epoch 2/10, Train Loss: 0.0335, Eval Loss: 0.0464\n",
      "Epoch 3/10, Train Loss: 0.0242, Eval Loss: 0.0484\n",
      "Epoch 4/10, Train Loss: 0.0191, Eval Loss: 0.0493\n",
      "Epoch 5/10, Train Loss: 0.0161, Eval Loss: 0.0513\n",
      "Epoch 6/10, Train Loss: 0.0143, Eval Loss: 0.0513\n",
      "Epoch 7/10, Train Loss: 0.0129, Eval Loss: 0.0520\n",
      "Epoch 8/10, Train Loss: 0.0121, Eval Loss: 0.0520\n",
      "Epoch 9/10, Train Loss: 0.0114, Eval Loss: 0.0513\n",
      "Epoch 10/10, Train Loss: 0.0106, Eval Loss: 0.0522\n",
      "Test Loss: 0.0521\n",
      "[BATCH 27] Model fitted\n",
      "[BATCH 27] Model saved\n",
      "[BATCH 28] Current buffer size: 13817\n"
     ]
    },
    {
     "name": "stderr",
     "output_type": "stream",
     "text": [
      "                                                                                \r"
     ]
    },
    {
     "name": "stdout",
     "output_type": "stream",
     "text": [
      "[BATCH 29] Model loaded\n",
      "[BATCH 29] Data scaled\n"
     ]
    },
    {
     "name": "stderr",
     "output_type": "stream",
     "text": [
      "/home/rafael/.local/lib/python3.10/site-packages/sklearn/base.py:465: UserWarning: X does not have valid feature names, but MinMaxScaler was fitted with feature names\n",
      "  warnings.warn(\n"
     ]
    },
    {
     "name": "stdout",
     "output_type": "stream",
     "text": [
      "[BATCH 29] All preprocessing done\n",
      "[BATCH 29] Fitting Model\n",
      "Training on cuda\n",
      "Epoch 1/10, Train Loss: 0.0473, Eval Loss: 0.0460\n",
      "Epoch 2/10, Train Loss: 0.0330, Eval Loss: 0.0472\n",
      "Epoch 3/10, Train Loss: 0.0242, Eval Loss: 0.0490\n",
      "Epoch 4/10, Train Loss: 0.0190, Eval Loss: 0.0504\n",
      "Epoch 5/10, Train Loss: 0.0164, Eval Loss: 0.0510\n",
      "Epoch 6/10, Train Loss: 0.0142, Eval Loss: 0.0522\n",
      "Epoch 7/10, Train Loss: 0.0132, Eval Loss: 0.0516\n",
      "Epoch 8/10, Train Loss: 0.0122, Eval Loss: 0.0518\n",
      "Epoch 9/10, Train Loss: 0.0117, Eval Loss: 0.0514\n",
      "Epoch 10/10, Train Loss: 0.0109, Eval Loss: 0.0523\n",
      "Test Loss: 0.0506\n",
      "[BATCH 29] Model fitted\n",
      "[BATCH 29] Model saved\n",
      "[BATCH 30] Current buffer size: 7842\n",
      "[BATCH 31] Model loaded\n",
      "[BATCH 31] Data scaled\n"
     ]
    },
    {
     "name": "stderr",
     "output_type": "stream",
     "text": [
      "/home/rafael/.local/lib/python3.10/site-packages/sklearn/base.py:465: UserWarning: X does not have valid feature names, but MinMaxScaler was fitted with feature names\n",
      "  warnings.warn(\n"
     ]
    },
    {
     "name": "stdout",
     "output_type": "stream",
     "text": [
      "[BATCH 31] All preprocessing done\n",
      "[BATCH 31] Fitting Model\n",
      "Training on cuda\n",
      "Epoch 1/10, Train Loss: 0.0473, Eval Loss: 0.0443\n",
      "Epoch 2/10, Train Loss: 0.0339, Eval Loss: 0.0455\n",
      "Epoch 3/10, Train Loss: 0.0251, Eval Loss: 0.0468\n",
      "Epoch 4/10, Train Loss: 0.0203, Eval Loss: 0.0470\n",
      "Epoch 5/10, Train Loss: 0.0171, Eval Loss: 0.0482\n",
      "Epoch 6/10, Train Loss: 0.0154, Eval Loss: 0.0485\n",
      "Epoch 7/10, Train Loss: 0.0139, Eval Loss: 0.0492\n",
      "Epoch 8/10, Train Loss: 0.0131, Eval Loss: 0.0497\n",
      "Epoch 9/10, Train Loss: 0.0121, Eval Loss: 0.0502\n",
      "Epoch 10/10, Train Loss: 0.0117, Eval Loss: 0.0500\n",
      "Test Loss: 0.0508\n",
      "[BATCH 31] Model fitted\n",
      "[BATCH 31] Model saved\n",
      "[BATCH 32] Current buffer size: 2065\n",
      "[BATCH 33] Current buffer size: 16256\n",
      "[BATCH 34] Model loaded\n",
      "[BATCH 34] Data scaled\n"
     ]
    },
    {
     "name": "stderr",
     "output_type": "stream",
     "text": [
      "/home/rafael/.local/lib/python3.10/site-packages/sklearn/base.py:465: UserWarning: X does not have valid feature names, but MinMaxScaler was fitted with feature names\n",
      "  warnings.warn(\n"
     ]
    },
    {
     "name": "stdout",
     "output_type": "stream",
     "text": [
      "[BATCH 34] All preprocessing done\n",
      "[BATCH 34] Fitting Model\n",
      "Training on cuda\n",
      "Epoch 1/10, Train Loss: 0.0481, Eval Loss: 0.0430\n",
      "Epoch 2/10, Train Loss: 0.0339, Eval Loss: 0.0447\n",
      "Epoch 3/10, Train Loss: 0.0255, Eval Loss: 0.0464\n",
      "Epoch 4/10, Train Loss: 0.0205, Eval Loss: 0.0462\n",
      "Epoch 5/10, Train Loss: 0.0177, Eval Loss: 0.0475\n",
      "Epoch 6/10, Train Loss: 0.0154, Eval Loss: 0.0482\n",
      "Epoch 7/10, Train Loss: 0.0141, Eval Loss: 0.0486\n",
      "Epoch 8/10, Train Loss: 0.0135, Eval Loss: 0.0488\n",
      "Epoch 9/10, Train Loss: 0.0126, Eval Loss: 0.0489\n",
      "Epoch 10/10, Train Loss: 0.0120, Eval Loss: 0.0489\n",
      "Test Loss: 0.0505\n",
      "[BATCH 34] Model fitted\n",
      "[BATCH 34] Model saved\n",
      "[BATCH 35] Current buffer size: 10580\n"
     ]
    },
    {
     "name": "stderr",
     "output_type": "stream",
     "text": [
      "                                                                                \r"
     ]
    },
    {
     "name": "stdout",
     "output_type": "stream",
     "text": [
      "[BATCH 36] Model loaded\n",
      "[BATCH 36] Data scaled\n"
     ]
    },
    {
     "name": "stderr",
     "output_type": "stream",
     "text": [
      "/home/rafael/.local/lib/python3.10/site-packages/sklearn/base.py:465: UserWarning: X does not have valid feature names, but MinMaxScaler was fitted with feature names\n",
      "  warnings.warn(\n"
     ]
    },
    {
     "name": "stdout",
     "output_type": "stream",
     "text": [
      "[BATCH 36] All preprocessing done\n",
      "[BATCH 36] Fitting Model\n",
      "Training on cuda\n",
      "Epoch 1/10, Train Loss: 0.0475, Eval Loss: 0.0466\n",
      "Epoch 2/10, Train Loss: 0.0345, Eval Loss: 0.0479\n",
      "Epoch 3/10, Train Loss: 0.0266, Eval Loss: 0.0495\n",
      "Epoch 4/10, Train Loss: 0.0218, Eval Loss: 0.0502\n",
      "Epoch 5/10, Train Loss: 0.0181, Eval Loss: 0.0509\n",
      "Epoch 6/10, Train Loss: 0.0165, Eval Loss: 0.0515\n",
      "Epoch 7/10, Train Loss: 0.0153, Eval Loss: 0.0515\n",
      "Epoch 8/10, Train Loss: 0.0140, Eval Loss: 0.0521\n",
      "Epoch 9/10, Train Loss: 0.0136, Eval Loss: 0.0529\n",
      "Epoch 10/10, Train Loss: 0.0128, Eval Loss: 0.0536\n",
      "Test Loss: 0.0518\n",
      "[BATCH 36] Model fitted\n",
      "[BATCH 36] Model saved\n",
      "[BATCH 37] Current buffer size: 4812\n",
      "[BATCH 38] Current buffer size: 18687\n"
     ]
    },
    {
     "name": "stderr",
     "output_type": "stream",
     "text": [
      "                                                                                \r"
     ]
    },
    {
     "name": "stdout",
     "output_type": "stream",
     "text": [
      "[BATCH 39] Model loaded\n",
      "[BATCH 39] Data scaled\n"
     ]
    },
    {
     "name": "stderr",
     "output_type": "stream",
     "text": [
      "/home/rafael/.local/lib/python3.10/site-packages/sklearn/base.py:465: UserWarning: X does not have valid feature names, but MinMaxScaler was fitted with feature names\n",
      "  warnings.warn(\n"
     ]
    },
    {
     "name": "stdout",
     "output_type": "stream",
     "text": [
      "[BATCH 39] All preprocessing done\n",
      "[BATCH 39] Fitting Model\n",
      "Training on cuda\n",
      "Epoch 1/10, Train Loss: 0.0477, Eval Loss: 0.0445\n",
      "Epoch 2/10, Train Loss: 0.0347, Eval Loss: 0.0454\n",
      "Epoch 3/10, Train Loss: 0.0265, Eval Loss: 0.0467\n",
      "Epoch 4/10, Train Loss: 0.0216, Eval Loss: 0.0484\n",
      "Epoch 5/10, Train Loss: 0.0186, Eval Loss: 0.0491\n",
      "Epoch 6/10, Train Loss: 0.0171, Eval Loss: 0.0486\n",
      "Epoch 7/10, Train Loss: 0.0155, Eval Loss: 0.0496\n",
      "Epoch 8/10, Train Loss: 0.0144, Eval Loss: 0.0492\n",
      "Epoch 9/10, Train Loss: 0.0139, Eval Loss: 0.0496\n",
      "Epoch 10/10, Train Loss: 0.0130, Eval Loss: 0.0502\n",
      "Test Loss: 0.0506\n",
      "[BATCH 39] Model fitted\n",
      "[BATCH 39] Model saved\n",
      "[BATCH 40] Current buffer size: 12019\n"
     ]
    },
    {
     "name": "stderr",
     "output_type": "stream",
     "text": [
      "                                                                                \r"
     ]
    },
    {
     "name": "stdout",
     "output_type": "stream",
     "text": [
      "[BATCH 41] Model loaded\n",
      "[BATCH 41] Data scaled\n"
     ]
    },
    {
     "name": "stderr",
     "output_type": "stream",
     "text": [
      "/home/rafael/.local/lib/python3.10/site-packages/sklearn/base.py:465: UserWarning: X does not have valid feature names, but MinMaxScaler was fitted with feature names\n",
      "  warnings.warn(\n"
     ]
    },
    {
     "name": "stdout",
     "output_type": "stream",
     "text": [
      "[BATCH 41] All preprocessing done\n",
      "[BATCH 41] Fitting Model\n",
      "Training on cuda\n",
      "Epoch 1/10, Train Loss: 0.0474, Eval Loss: 0.0484\n",
      "Epoch 2/10, Train Loss: 0.0349, Eval Loss: 0.0466\n",
      "Epoch 3/10, Train Loss: 0.0269, Eval Loss: 0.0479\n",
      "Epoch 4/10, Train Loss: 0.0221, Eval Loss: 0.0492\n",
      "Epoch 5/10, Train Loss: 0.0192, Eval Loss: 0.0489\n",
      "Epoch 6/10, Train Loss: 0.0172, Eval Loss: 0.0496\n",
      "Epoch 7/10, Train Loss: 0.0160, Eval Loss: 0.0504\n",
      "Epoch 8/10, Train Loss: 0.0148, Eval Loss: 0.0507\n",
      "Epoch 9/10, Train Loss: 0.0140, Eval Loss: 0.0503\n",
      "Epoch 10/10, Train Loss: 0.0139, Eval Loss: 0.0509\n",
      "Test Loss: 0.0497\n",
      "[BATCH 41] Model fitted\n",
      "[BATCH 41] Model saved\n",
      "[BATCH 42] Current buffer size: 6167\n"
     ]
    },
    {
     "name": "stderr",
     "output_type": "stream",
     "text": [
      "                                                                                \r"
     ]
    },
    {
     "name": "stdout",
     "output_type": "stream",
     "text": [
      "[BATCH 43] Model loaded\n",
      "[BATCH 43] Data scaled\n"
     ]
    },
    {
     "name": "stderr",
     "output_type": "stream",
     "text": [
      "/home/rafael/.local/lib/python3.10/site-packages/sklearn/base.py:465: UserWarning: X does not have valid feature names, but MinMaxScaler was fitted with feature names\n",
      "  warnings.warn(\n"
     ]
    },
    {
     "name": "stdout",
     "output_type": "stream",
     "text": [
      "[BATCH 43] All preprocessing done\n",
      "[BATCH 43] Fitting Model\n",
      "Training on cuda\n",
      "Epoch 1/10, Train Loss: 0.0470, Eval Loss: 0.0452\n",
      "Epoch 2/10, Train Loss: 0.0352, Eval Loss: 0.0467\n",
      "Epoch 3/10, Train Loss: 0.0275, Eval Loss: 0.0487\n",
      "Epoch 4/10, Train Loss: 0.0224, Eval Loss: 0.0494\n",
      "Epoch 5/10, Train Loss: 0.0194, Eval Loss: 0.0494\n",
      "Epoch 6/10, Train Loss: 0.0177, Eval Loss: 0.0500\n",
      "Epoch 7/10, Train Loss: 0.0166, Eval Loss: 0.0506\n",
      "Epoch 8/10, Train Loss: 0.0158, Eval Loss: 0.0502\n",
      "Epoch 9/10, Train Loss: 0.0149, Eval Loss: 0.0507\n",
      "Epoch 10/10, Train Loss: 0.0145, Eval Loss: 0.0517\n",
      "Test Loss: 0.0511\n",
      "[BATCH 43] Model fitted\n",
      "[BATCH 43] Model saved\n",
      "[BATCH 44] Current buffer size: 337\n",
      "[BATCH 45] Current buffer size: 15077\n"
     ]
    },
    {
     "name": "stderr",
     "output_type": "stream",
     "text": [
      "                                                                                \r"
     ]
    },
    {
     "name": "stdout",
     "output_type": "stream",
     "text": [
      "[BATCH 46] Model loaded\n",
      "[BATCH 46] Data scaled\n"
     ]
    },
    {
     "name": "stderr",
     "output_type": "stream",
     "text": [
      "/home/rafael/.local/lib/python3.10/site-packages/sklearn/base.py:465: UserWarning: X does not have valid feature names, but MinMaxScaler was fitted with feature names\n",
      "  warnings.warn(\n"
     ]
    },
    {
     "name": "stdout",
     "output_type": "stream",
     "text": [
      "[BATCH 46] All preprocessing done\n",
      "[BATCH 46] Fitting Model\n",
      "Training on cuda\n",
      "Epoch 1/10, Train Loss: 0.0479, Eval Loss: 0.0481\n",
      "Epoch 2/10, Train Loss: 0.0357, Eval Loss: 0.0481\n",
      "Epoch 3/10, Train Loss: 0.0280, Eval Loss: 0.0490\n",
      "Epoch 4/10, Train Loss: 0.0233, Eval Loss: 0.0501\n",
      "Epoch 5/10, Train Loss: 0.0207, Eval Loss: 0.0507\n",
      "Epoch 6/10, Train Loss: 0.0185, Eval Loss: 0.0513\n",
      "Epoch 7/10, Train Loss: 0.0174, Eval Loss: 0.0517\n",
      "Epoch 8/10, Train Loss: 0.0162, Eval Loss: 0.0510\n",
      "Epoch 9/10, Train Loss: 0.0156, Eval Loss: 0.0516\n",
      "Epoch 10/10, Train Loss: 0.0148, Eval Loss: 0.0512\n",
      "Test Loss: 0.0495\n",
      "[BATCH 46] Model fitted\n",
      "[BATCH 46] Model saved\n",
      "[BATCH 47] Current buffer size: 8737\n"
     ]
    },
    {
     "name": "stderr",
     "output_type": "stream",
     "text": [
      "                                                                                \r"
     ]
    },
    {
     "name": "stdout",
     "output_type": "stream",
     "text": [
      "[BATCH 48] Model loaded\n",
      "[BATCH 48] Data scaled\n"
     ]
    },
    {
     "name": "stderr",
     "output_type": "stream",
     "text": [
      "/home/rafael/.local/lib/python3.10/site-packages/sklearn/base.py:465: UserWarning: X does not have valid feature names, but MinMaxScaler was fitted with feature names\n",
      "  warnings.warn(\n"
     ]
    },
    {
     "name": "stdout",
     "output_type": "stream",
     "text": [
      "[BATCH 48] All preprocessing done\n",
      "[BATCH 48] Fitting Model\n",
      "Training on cuda\n",
      "Epoch 1/10, Train Loss: 0.0477, Eval Loss: 0.0467\n",
      "Epoch 2/10, Train Loss: 0.0355, Eval Loss: 0.0480\n",
      "Epoch 3/10, Train Loss: 0.0283, Eval Loss: 0.0492\n",
      "Epoch 4/10, Train Loss: 0.0233, Eval Loss: 0.0504\n",
      "Epoch 5/10, Train Loss: 0.0202, Eval Loss: 0.0508\n",
      "Epoch 6/10, Train Loss: 0.0187, Eval Loss: 0.0522\n",
      "Epoch 7/10, Train Loss: 0.0175, Eval Loss: 0.0520\n",
      "Epoch 8/10, Train Loss: 0.0164, Eval Loss: 0.0526\n",
      "Epoch 9/10, Train Loss: 0.0157, Eval Loss: 0.0527\n",
      "Epoch 10/10, Train Loss: 0.0149, Eval Loss: 0.0526\n",
      "Test Loss: 0.0501\n",
      "[BATCH 48] Model fitted\n",
      "[BATCH 48] Model saved\n",
      "[BATCH 49] Current buffer size: 2641\n",
      "[BATCH 50] Current buffer size: 17204\n"
     ]
    },
    {
     "name": "stderr",
     "output_type": "stream",
     "text": [
      "                                                                                \r"
     ]
    },
    {
     "name": "stdout",
     "output_type": "stream",
     "text": [
      "[BATCH 51] Model loaded\n",
      "[BATCH 51] Data scaled\n"
     ]
    },
    {
     "name": "stderr",
     "output_type": "stream",
     "text": [
      "/home/rafael/.local/lib/python3.10/site-packages/sklearn/base.py:465: UserWarning: X does not have valid feature names, but MinMaxScaler was fitted with feature names\n",
      "  warnings.warn(\n"
     ]
    },
    {
     "name": "stdout",
     "output_type": "stream",
     "text": [
      "[BATCH 51] All preprocessing done\n",
      "[BATCH 51] Fitting Model\n",
      "Training on cuda\n",
      "Epoch 1/10, Train Loss: 0.0467, Eval Loss: 0.0463\n",
      "Epoch 2/10, Train Loss: 0.0358, Eval Loss: 0.0460\n",
      "Epoch 3/10, Train Loss: 0.0287, Eval Loss: 0.0482\n",
      "Epoch 4/10, Train Loss: 0.0240, Eval Loss: 0.0491\n",
      "Epoch 5/10, Train Loss: 0.0211, Eval Loss: 0.0499\n",
      "Epoch 6/10, Train Loss: 0.0192, Eval Loss: 0.0508\n",
      "Epoch 7/10, Train Loss: 0.0179, Eval Loss: 0.0499\n",
      "Epoch 8/10, Train Loss: 0.0174, Eval Loss: 0.0511\n",
      "Epoch 9/10, Train Loss: 0.0163, Eval Loss: 0.0512\n",
      "Epoch 10/10, Train Loss: 0.0156, Eval Loss: 0.0510\n",
      "Test Loss: 0.0495\n",
      "[BATCH 51] Model fitted\n",
      "[BATCH 51] Model saved\n",
      "[BATCH 52] Current buffer size: 11302\n",
      "[BATCH 53] Model loaded\n",
      "[BATCH 53] Data scaled\n"
     ]
    },
    {
     "name": "stderr",
     "output_type": "stream",
     "text": [
      "/home/rafael/.local/lib/python3.10/site-packages/sklearn/base.py:465: UserWarning: X does not have valid feature names, but MinMaxScaler was fitted with feature names\n",
      "  warnings.warn(\n"
     ]
    },
    {
     "name": "stdout",
     "output_type": "stream",
     "text": [
      "[BATCH 53] All preprocessing done\n",
      "[BATCH 53] Fitting Model\n",
      "Training on cuda\n",
      "Epoch 1/10, Train Loss: 0.0473, Eval Loss: 0.0454\n",
      "Epoch 2/10, Train Loss: 0.0361, Eval Loss: 0.0456\n",
      "Epoch 3/10, Train Loss: 0.0292, Eval Loss: 0.0470\n",
      "Epoch 4/10, Train Loss: 0.0241, Eval Loss: 0.0476\n",
      "Epoch 5/10, Train Loss: 0.0217, Eval Loss: 0.0491\n",
      "Epoch 6/10, Train Loss: 0.0197, Eval Loss: 0.0485\n",
      "Epoch 7/10, Train Loss: 0.0184, Eval Loss: 0.0496\n",
      "Epoch 8/10, Train Loss: 0.0174, Eval Loss: 0.0493\n",
      "Epoch 9/10, Train Loss: 0.0169, Eval Loss: 0.0500\n",
      "Epoch 10/10, Train Loss: 0.0162, Eval Loss: 0.0493\n",
      "Test Loss: 0.0490\n",
      "[BATCH 53] Model fitted\n",
      "[BATCH 53] Model saved\n",
      "[BATCH 54] Current buffer size: 5560\n",
      "[BATCH 55] Current buffer size: 19145\n",
      "[BATCH 56] Model loaded\n",
      "[BATCH 56] Data scaled\n"
     ]
    },
    {
     "name": "stderr",
     "output_type": "stream",
     "text": [
      "/home/rafael/.local/lib/python3.10/site-packages/sklearn/base.py:465: UserWarning: X does not have valid feature names, but MinMaxScaler was fitted with feature names\n",
      "  warnings.warn(\n"
     ]
    },
    {
     "name": "stdout",
     "output_type": "stream",
     "text": [
      "[BATCH 56] All preprocessing done\n",
      "[BATCH 56] Fitting Model\n",
      "Training on cuda\n",
      "Epoch 1/10, Train Loss: 0.0467, Eval Loss: 0.0473\n",
      "Epoch 2/10, Train Loss: 0.0355, Eval Loss: 0.0485\n",
      "Epoch 3/10, Train Loss: 0.0287, Eval Loss: 0.0493\n",
      "Epoch 4/10, Train Loss: 0.0243, Eval Loss: 0.0502\n",
      "Epoch 5/10, Train Loss: 0.0218, Eval Loss: 0.0505\n",
      "Epoch 6/10, Train Loss: 0.0202, Eval Loss: 0.0509\n",
      "Epoch 7/10, Train Loss: 0.0188, Eval Loss: 0.0512\n",
      "Epoch 8/10, Train Loss: 0.0178, Eval Loss: 0.0522\n",
      "Epoch 9/10, Train Loss: 0.0174, Eval Loss: 0.0517\n",
      "Epoch 10/10, Train Loss: 0.0169, Eval Loss: 0.0512\n",
      "Test Loss: 0.0484\n",
      "[BATCH 56] Model fitted\n",
      "[BATCH 56] Model saved\n",
      "[BATCH 57] Current buffer size: 13570\n",
      "[BATCH 58] Model loaded\n",
      "[BATCH 58] Data scaled\n"
     ]
    },
    {
     "name": "stderr",
     "output_type": "stream",
     "text": [
      "/home/rafael/.local/lib/python3.10/site-packages/sklearn/base.py:465: UserWarning: X does not have valid feature names, but MinMaxScaler was fitted with feature names\n",
      "  warnings.warn(\n"
     ]
    },
    {
     "name": "stdout",
     "output_type": "stream",
     "text": [
      "[BATCH 58] All preprocessing done\n",
      "[BATCH 58] Fitting Model\n",
      "Training on cuda\n",
      "Epoch 1/10, Train Loss: 0.0472, Eval Loss: 0.0504\n",
      "Epoch 2/10, Train Loss: 0.0370, Eval Loss: 0.0485\n",
      "Epoch 3/10, Train Loss: 0.0295, Eval Loss: 0.0493\n",
      "Epoch 4/10, Train Loss: 0.0246, Eval Loss: 0.0511\n",
      "Epoch 5/10, Train Loss: 0.0220, Eval Loss: 0.0506\n",
      "Epoch 6/10, Train Loss: 0.0198, Eval Loss: 0.0511\n",
      "Epoch 7/10, Train Loss: 0.0189, Eval Loss: 0.0513\n",
      "Epoch 8/10, Train Loss: 0.0179, Eval Loss: 0.0530\n",
      "Epoch 9/10, Train Loss: 0.0170, Eval Loss: 0.0520\n",
      "Epoch 10/10, Train Loss: 0.0164, Eval Loss: 0.0519\n",
      "Test Loss: 0.0491\n",
      "[BATCH 58] Model fitted\n",
      "[BATCH 58] Model saved\n",
      "[BATCH 59] Current buffer size: 7502\n"
     ]
    },
    {
     "name": "stderr",
     "output_type": "stream",
     "text": [
      "                                                                                \r"
     ]
    },
    {
     "name": "stdout",
     "output_type": "stream",
     "text": [
      "[BATCH 60] Model loaded\n",
      "[BATCH 60] Data scaled\n"
     ]
    },
    {
     "name": "stderr",
     "output_type": "stream",
     "text": [
      "/home/rafael/.local/lib/python3.10/site-packages/sklearn/base.py:465: UserWarning: X does not have valid feature names, but MinMaxScaler was fitted with feature names\n",
      "  warnings.warn(\n"
     ]
    },
    {
     "name": "stdout",
     "output_type": "stream",
     "text": [
      "[BATCH 60] All preprocessing done\n",
      "[BATCH 60] Fitting Model\n",
      "Training on cuda\n",
      "Epoch 1/10, Train Loss: 0.0470, Eval Loss: 0.0461\n",
      "Epoch 2/10, Train Loss: 0.0371, Eval Loss: 0.0462\n",
      "Epoch 3/10, Train Loss: 0.0299, Eval Loss: 0.0490\n",
      "Epoch 4/10, Train Loss: 0.0252, Eval Loss: 0.0482\n",
      "Epoch 5/10, Train Loss: 0.0222, Eval Loss: 0.0494\n",
      "Epoch 6/10, Train Loss: 0.0205, Eval Loss: 0.0492\n",
      "Epoch 7/10, Train Loss: 0.0190, Eval Loss: 0.0498\n",
      "Epoch 8/10, Train Loss: 0.0182, Eval Loss: 0.0501\n",
      "Epoch 9/10, Train Loss: 0.0173, Eval Loss: 0.0510\n",
      "Epoch 10/10, Train Loss: 0.0169, Eval Loss: 0.0510\n",
      "Test Loss: 0.0501\n",
      "[BATCH 60] Model fitted\n",
      "[BATCH 60] Model saved\n",
      "[BATCH 61] Current buffer size: 1463\n",
      "[BATCH 62] Current buffer size: 16012\n"
     ]
    },
    {
     "name": "stderr",
     "output_type": "stream",
     "text": [
      "                                                                                \r"
     ]
    },
    {
     "name": "stdout",
     "output_type": "stream",
     "text": [
      "[BATCH 63] Model loaded\n",
      "[BATCH 63] Data scaled\n"
     ]
    },
    {
     "name": "stderr",
     "output_type": "stream",
     "text": [
      "/home/rafael/.local/lib/python3.10/site-packages/sklearn/base.py:465: UserWarning: X does not have valid feature names, but MinMaxScaler was fitted with feature names\n",
      "  warnings.warn(\n"
     ]
    },
    {
     "name": "stdout",
     "output_type": "stream",
     "text": [
      "[BATCH 63] All preprocessing done\n",
      "[BATCH 63] Fitting Model\n",
      "Training on cuda\n",
      "Epoch 1/10, Train Loss: 0.0481, Eval Loss: 0.0473\n",
      "Epoch 2/10, Train Loss: 0.0378, Eval Loss: 0.0476\n",
      "Epoch 3/10, Train Loss: 0.0306, Eval Loss: 0.0489\n",
      "Epoch 4/10, Train Loss: 0.0255, Eval Loss: 0.0500\n",
      "Epoch 5/10, Train Loss: 0.0228, Eval Loss: 0.0497\n",
      "Epoch 6/10, Train Loss: 0.0210, Eval Loss: 0.0505\n",
      "Epoch 7/10, Train Loss: 0.0202, Eval Loss: 0.0510\n",
      "Epoch 8/10, Train Loss: 0.0192, Eval Loss: 0.0508\n",
      "Epoch 9/10, Train Loss: 0.0183, Eval Loss: 0.0515\n",
      "Epoch 10/10, Train Loss: 0.0178, Eval Loss: 0.0513\n",
      "Test Loss: 0.0500\n",
      "[BATCH 63] Model fitted\n",
      "[BATCH 63] Model saved\n",
      "[BATCH 64] Current buffer size: 9736\n"
     ]
    },
    {
     "name": "stderr",
     "output_type": "stream",
     "text": [
      "                                                                                \r"
     ]
    },
    {
     "name": "stdout",
     "output_type": "stream",
     "text": [
      "[BATCH 65] Model loaded\n",
      "[BATCH 65] Data scaled\n"
     ]
    },
    {
     "name": "stderr",
     "output_type": "stream",
     "text": [
      "/home/rafael/.local/lib/python3.10/site-packages/sklearn/base.py:465: UserWarning: X does not have valid feature names, but MinMaxScaler was fitted with feature names\n",
      "  warnings.warn(\n"
     ]
    },
    {
     "name": "stdout",
     "output_type": "stream",
     "text": [
      "[BATCH 65] All preprocessing done\n",
      "[BATCH 65] Fitting Model\n",
      "Training on cuda\n",
      "Epoch 1/10, Train Loss: 0.0471, Eval Loss: 0.0471\n",
      "Epoch 2/10, Train Loss: 0.0373, Eval Loss: 0.0460\n",
      "Epoch 3/10, Train Loss: 0.0300, Eval Loss: 0.0474\n",
      "Epoch 4/10, Train Loss: 0.0255, Eval Loss: 0.0476\n",
      "Epoch 5/10, Train Loss: 0.0232, Eval Loss: 0.0483\n",
      "Epoch 6/10, Train Loss: 0.0217, Eval Loss: 0.0486\n",
      "Epoch 7/10, Train Loss: 0.0205, Eval Loss: 0.0476\n",
      "Epoch 8/10, Train Loss: 0.0196, Eval Loss: 0.0485\n",
      "Epoch 9/10, Train Loss: 0.0190, Eval Loss: 0.0483\n",
      "Epoch 10/10, Train Loss: 0.0183, Eval Loss: 0.0483\n",
      "Test Loss: 0.0491\n",
      "[BATCH 65] Model fitted\n",
      "[BATCH 65] Model saved\n",
      "[BATCH 66] Current buffer size: 3409\n",
      "[BATCH 67] Current buffer size: 17791\n",
      "[BATCH 68] Model loaded\n",
      "[BATCH 68] Data scaled\n"
     ]
    },
    {
     "name": "stderr",
     "output_type": "stream",
     "text": [
      "/home/rafael/.local/lib/python3.10/site-packages/sklearn/base.py:465: UserWarning: X does not have valid feature names, but MinMaxScaler was fitted with feature names\n",
      "  warnings.warn(\n"
     ]
    },
    {
     "name": "stdout",
     "output_type": "stream",
     "text": [
      "[BATCH 68] All preprocessing done\n",
      "[BATCH 68] Fitting Model\n",
      "Training on cuda\n",
      "Epoch 1/10, Train Loss: 0.0476, Eval Loss: 0.0441\n",
      "Epoch 2/10, Train Loss: 0.0370, Eval Loss: 0.0446\n",
      "Epoch 3/10, Train Loss: 0.0297, Eval Loss: 0.0460\n",
      "Epoch 4/10, Train Loss: 0.0259, Eval Loss: 0.0470\n",
      "Epoch 5/10, Train Loss: 0.0234, Eval Loss: 0.0477\n",
      "Epoch 6/10, Train Loss: 0.0216, Eval Loss: 0.0479\n",
      "Epoch 7/10, Train Loss: 0.0203, Eval Loss: 0.0476\n",
      "Epoch 8/10, Train Loss: 0.0189, Eval Loss: 0.0481\n",
      "Epoch 9/10, Train Loss: 0.0183, Eval Loss: 0.0489\n",
      "Epoch 10/10, Train Loss: 0.0181, Eval Loss: 0.0488\n",
      "Test Loss: 0.0493\n",
      "[BATCH 68] Model fitted\n",
      "[BATCH 68] Model saved\n",
      "[BATCH 69] Current buffer size: 11712\n",
      "[BATCH 70] Model loaded\n",
      "[BATCH 70] Data scaled\n"
     ]
    },
    {
     "name": "stderr",
     "output_type": "stream",
     "text": [
      "/home/rafael/.local/lib/python3.10/site-packages/sklearn/base.py:465: UserWarning: X does not have valid feature names, but MinMaxScaler was fitted with feature names\n",
      "  warnings.warn(\n"
     ]
    },
    {
     "name": "stdout",
     "output_type": "stream",
     "text": [
      "[BATCH 70] All preprocessing done\n",
      "[BATCH 70] Fitting Model\n",
      "Training on cuda\n",
      "Epoch 1/10, Train Loss: 0.0470, Eval Loss: 0.0473\n",
      "Epoch 2/10, Train Loss: 0.0370, Eval Loss: 0.0497\n",
      "Epoch 3/10, Train Loss: 0.0306, Eval Loss: 0.0499\n",
      "Epoch 4/10, Train Loss: 0.0263, Eval Loss: 0.0501\n",
      "Epoch 5/10, Train Loss: 0.0235, Eval Loss: 0.0510\n",
      "Epoch 6/10, Train Loss: 0.0220, Eval Loss: 0.0511\n",
      "Epoch 7/10, Train Loss: 0.0210, Eval Loss: 0.0513\n",
      "Epoch 8/10, Train Loss: 0.0198, Eval Loss: 0.0507\n",
      "Epoch 9/10, Train Loss: 0.0195, Eval Loss: 0.0515\n",
      "Epoch 10/10, Train Loss: 0.0189, Eval Loss: 0.0525\n",
      "Test Loss: 0.0493\n",
      "[BATCH 70] Model fitted\n",
      "[BATCH 70] Model saved\n",
      "[BATCH 71] Current buffer size: 5092\n",
      "[BATCH 72] Current buffer size: 19402\n",
      "[BATCH 73] Model loaded\n",
      "[BATCH 73] Data scaled\n"
     ]
    },
    {
     "name": "stderr",
     "output_type": "stream",
     "text": [
      "/home/rafael/.local/lib/python3.10/site-packages/sklearn/base.py:465: UserWarning: X does not have valid feature names, but MinMaxScaler was fitted with feature names\n",
      "  warnings.warn(\n"
     ]
    },
    {
     "name": "stdout",
     "output_type": "stream",
     "text": [
      "[BATCH 73] All preprocessing done\n",
      "[BATCH 73] Fitting Model\n",
      "Training on cuda\n",
      "Epoch 1/10, Train Loss: 0.0475, Eval Loss: 0.0463\n",
      "Epoch 2/10, Train Loss: 0.0376, Eval Loss: 0.0468\n",
      "Epoch 3/10, Train Loss: 0.0303, Eval Loss: 0.0479\n",
      "Epoch 4/10, Train Loss: 0.0260, Eval Loss: 0.0484\n",
      "Epoch 5/10, Train Loss: 0.0235, Eval Loss: 0.0492\n",
      "Epoch 6/10, Train Loss: 0.0220, Eval Loss: 0.0485\n",
      "Epoch 7/10, Train Loss: 0.0206, Eval Loss: 0.0492\n",
      "Epoch 8/10, Train Loss: 0.0202, Eval Loss: 0.0490\n",
      "Epoch 9/10, Train Loss: 0.0189, Eval Loss: 0.0494\n",
      "Epoch 10/10, Train Loss: 0.0187, Eval Loss: 0.0508\n",
      "Test Loss: 0.0504\n",
      "[BATCH 73] Model fitted\n",
      "[BATCH 73] Model saved\n",
      "[BATCH 74] Current buffer size: 13722\n",
      "[BATCH 75] Model loaded\n",
      "[BATCH 75] Data scaled\n"
     ]
    },
    {
     "name": "stderr",
     "output_type": "stream",
     "text": [
      "/home/rafael/.local/lib/python3.10/site-packages/sklearn/base.py:465: UserWarning: X does not have valid feature names, but MinMaxScaler was fitted with feature names\n",
      "  warnings.warn(\n"
     ]
    },
    {
     "name": "stdout",
     "output_type": "stream",
     "text": [
      "[BATCH 75] All preprocessing done\n",
      "[BATCH 75] Fitting Model\n",
      "Training on cuda\n",
      "Epoch 1/10, Train Loss: 0.0471, Eval Loss: 0.0444\n",
      "Epoch 2/10, Train Loss: 0.0375, Eval Loss: 0.0452\n",
      "Epoch 3/10, Train Loss: 0.0307, Eval Loss: 0.0461\n",
      "Epoch 4/10, Train Loss: 0.0265, Eval Loss: 0.0466\n",
      "Epoch 5/10, Train Loss: 0.0238, Eval Loss: 0.0476\n",
      "Epoch 6/10, Train Loss: 0.0220, Eval Loss: 0.0467\n",
      "Epoch 7/10, Train Loss: 0.0208, Eval Loss: 0.0474\n",
      "Epoch 8/10, Train Loss: 0.0200, Eval Loss: 0.0470\n",
      "Epoch 9/10, Train Loss: 0.0194, Eval Loss: 0.0490\n",
      "Epoch 10/10, Train Loss: 0.0189, Eval Loss: 0.0483\n",
      "Test Loss: 0.0493\n",
      "[BATCH 75] Model fitted\n",
      "[BATCH 75] Model saved\n",
      "[BATCH 76] Current buffer size: 7992\n"
     ]
    },
    {
     "name": "stderr",
     "output_type": "stream",
     "text": [
      "                                                                                \r"
     ]
    },
    {
     "name": "stdout",
     "output_type": "stream",
     "text": [
      "[BATCH 77] Model loaded\n",
      "[BATCH 77] Data scaled\n"
     ]
    },
    {
     "name": "stderr",
     "output_type": "stream",
     "text": [
      "/home/rafael/.local/lib/python3.10/site-packages/sklearn/base.py:465: UserWarning: X does not have valid feature names, but MinMaxScaler was fitted with feature names\n",
      "  warnings.warn(\n"
     ]
    },
    {
     "name": "stdout",
     "output_type": "stream",
     "text": [
      "[BATCH 77] All preprocessing done\n",
      "[BATCH 77] Fitting Model\n",
      "Training on cuda\n",
      "Epoch 1/10, Train Loss: 0.0474, Eval Loss: 0.0447\n",
      "Epoch 2/10, Train Loss: 0.0377, Eval Loss: 0.0445\n",
      "Epoch 3/10, Train Loss: 0.0312, Eval Loss: 0.0461\n",
      "Epoch 4/10, Train Loss: 0.0272, Eval Loss: 0.0468\n",
      "Epoch 5/10, Train Loss: 0.0235, Eval Loss: 0.0473\n",
      "Epoch 6/10, Train Loss: 0.0221, Eval Loss: 0.0471\n",
      "Epoch 7/10, Train Loss: 0.0205, Eval Loss: 0.0470\n",
      "Epoch 8/10, Train Loss: 0.0200, Eval Loss: 0.0478\n",
      "Epoch 9/10, Train Loss: 0.0191, Eval Loss: 0.0486\n",
      "Epoch 10/10, Train Loss: 0.0183, Eval Loss: 0.0482\n",
      "Test Loss: 0.0485\n",
      "[BATCH 77] Model fitted\n",
      "[BATCH 77] Model saved\n",
      "[BATCH 78] Current buffer size: 1839\n",
      "[BATCH 79] Current buffer size: 15404\n",
      "[BATCH 80] Model loaded\n",
      "[BATCH 80] Data scaled\n"
     ]
    },
    {
     "name": "stderr",
     "output_type": "stream",
     "text": [
      "/home/rafael/.local/lib/python3.10/site-packages/sklearn/base.py:465: UserWarning: X does not have valid feature names, but MinMaxScaler was fitted with feature names\n",
      "  warnings.warn(\n"
     ]
    },
    {
     "name": "stdout",
     "output_type": "stream",
     "text": [
      "[BATCH 80] All preprocessing done\n",
      "[BATCH 80] Fitting Model\n",
      "Training on cuda\n",
      "Epoch 1/10, Train Loss: 0.0477, Eval Loss: 0.0449\n",
      "Epoch 2/10, Train Loss: 0.0381, Eval Loss: 0.0448\n",
      "Epoch 3/10, Train Loss: 0.0313, Eval Loss: 0.0467\n",
      "Epoch 4/10, Train Loss: 0.0269, Eval Loss: 0.0471\n",
      "Epoch 5/10, Train Loss: 0.0240, Eval Loss: 0.0477\n",
      "Epoch 6/10, Train Loss: 0.0223, Eval Loss: 0.0472\n",
      "Epoch 7/10, Train Loss: 0.0210, Eval Loss: 0.0479\n",
      "Epoch 8/10, Train Loss: 0.0199, Eval Loss: 0.0482\n",
      "Epoch 9/10, Train Loss: 0.0193, Eval Loss: 0.0483\n",
      "Epoch 10/10, Train Loss: 0.0192, Eval Loss: 0.0483\n",
      "Test Loss: 0.0491\n",
      "[BATCH 80] Model fitted\n",
      "[BATCH 80] Model saved\n",
      "[BATCH 81] Current buffer size: 8932\n"
     ]
    },
    {
     "name": "stderr",
     "output_type": "stream",
     "text": [
      "                                                                                \r"
     ]
    },
    {
     "name": "stdout",
     "output_type": "stream",
     "text": [
      "[BATCH 82] Model loaded\n",
      "[BATCH 82] Data scaled\n"
     ]
    },
    {
     "name": "stderr",
     "output_type": "stream",
     "text": [
      "/home/rafael/.local/lib/python3.10/site-packages/sklearn/base.py:465: UserWarning: X does not have valid feature names, but MinMaxScaler was fitted with feature names\n",
      "  warnings.warn(\n"
     ]
    },
    {
     "name": "stdout",
     "output_type": "stream",
     "text": [
      "[BATCH 82] All preprocessing done\n",
      "[BATCH 82] Fitting Model\n",
      "Training on cuda\n",
      "Epoch 1/10, Train Loss: 0.0467, Eval Loss: 0.0452\n",
      "Epoch 2/10, Train Loss: 0.0372, Eval Loss: 0.0452\n",
      "Epoch 3/10, Train Loss: 0.0305, Eval Loss: 0.0462\n",
      "Epoch 4/10, Train Loss: 0.0258, Eval Loss: 0.0469\n",
      "Epoch 5/10, Train Loss: 0.0236, Eval Loss: 0.0466\n",
      "Epoch 6/10, Train Loss: 0.0215, Eval Loss: 0.0478\n",
      "Epoch 7/10, Train Loss: 0.0204, Eval Loss: 0.0476\n",
      "Epoch 8/10, Train Loss: 0.0198, Eval Loss: 0.0477\n",
      "Epoch 9/10, Train Loss: 0.0190, Eval Loss: 0.0481\n",
      "Epoch 10/10, Train Loss: 0.0186, Eval Loss: 0.0479\n",
      "Test Loss: 0.0484\n",
      "[BATCH 82] Model fitted\n",
      "[BATCH 82] Model saved\n",
      "[BATCH 83] Current buffer size: 2680\n",
      "[BATCH 84] Current buffer size: 16771\n"
     ]
    },
    {
     "name": "stderr",
     "output_type": "stream",
     "text": [
      "                                                                                \r"
     ]
    },
    {
     "name": "stdout",
     "output_type": "stream",
     "text": [
      "[BATCH 85] Model loaded\n",
      "[BATCH 85] Data scaled\n"
     ]
    },
    {
     "name": "stderr",
     "output_type": "stream",
     "text": [
      "/home/rafael/.local/lib/python3.10/site-packages/sklearn/base.py:465: UserWarning: X does not have valid feature names, but MinMaxScaler was fitted with feature names\n",
      "  warnings.warn(\n"
     ]
    },
    {
     "name": "stdout",
     "output_type": "stream",
     "text": [
      "[BATCH 85] All preprocessing done\n",
      "[BATCH 85] Fitting Model\n",
      "Training on cuda\n",
      "Epoch 1/10, Train Loss: 0.0463, Eval Loss: 0.0450\n",
      "Epoch 2/10, Train Loss: 0.0374, Eval Loss: 0.0436\n",
      "Epoch 3/10, Train Loss: 0.0310, Eval Loss: 0.0442\n",
      "Epoch 4/10, Train Loss: 0.0269, Eval Loss: 0.0454\n",
      "Epoch 5/10, Train Loss: 0.0241, Eval Loss: 0.0463\n",
      "Epoch 6/10, Train Loss: 0.0221, Eval Loss: 0.0458\n",
      "Epoch 7/10, Train Loss: 0.0211, Eval Loss: 0.0460\n",
      "Epoch 8/10, Train Loss: 0.0202, Eval Loss: 0.0465\n",
      "Epoch 9/10, Train Loss: 0.0196, Eval Loss: 0.0467\n",
      "Epoch 10/10, Train Loss: 0.0186, Eval Loss: 0.0470\n",
      "Test Loss: 0.0493\n",
      "[BATCH 85] Model fitted\n",
      "[BATCH 85] Model saved\n",
      "[BATCH 86] Current buffer size: 10450\n",
      "[BATCH 87] Model loaded\n",
      "[BATCH 87] Data scaled\n"
     ]
    },
    {
     "name": "stderr",
     "output_type": "stream",
     "text": [
      "/home/rafael/.local/lib/python3.10/site-packages/sklearn/base.py:465: UserWarning: X does not have valid feature names, but MinMaxScaler was fitted with feature names\n",
      "  warnings.warn(\n"
     ]
    },
    {
     "name": "stdout",
     "output_type": "stream",
     "text": [
      "[BATCH 87] All preprocessing done\n",
      "[BATCH 87] Fitting Model\n",
      "Training on cuda\n",
      "Epoch 1/10, Train Loss: 0.0469, Eval Loss: 0.0459\n",
      "Epoch 2/10, Train Loss: 0.0376, Eval Loss: 0.0482\n",
      "Epoch 3/10, Train Loss: 0.0314, Eval Loss: 0.0481\n",
      "Epoch 4/10, Train Loss: 0.0263, Eval Loss: 0.0489\n",
      "Epoch 5/10, Train Loss: 0.0238, Eval Loss: 0.0495\n",
      "Epoch 6/10, Train Loss: 0.0224, Eval Loss: 0.0501\n",
      "Epoch 7/10, Train Loss: 0.0209, Eval Loss: 0.0505\n",
      "Epoch 8/10, Train Loss: 0.0199, Eval Loss: 0.0501\n",
      "Epoch 9/10, Train Loss: 0.0194, Eval Loss: 0.0506\n",
      "Epoch 10/10, Train Loss: 0.0189, Eval Loss: 0.0508\n",
      "Test Loss: 0.0493\n",
      "[BATCH 87] Model fitted\n",
      "[BATCH 87] Model saved\n",
      "[BATCH 88] Current buffer size: 4383\n",
      "[BATCH 89] Current buffer size: 19154\n",
      "[BATCH 90] Model loaded\n",
      "[BATCH 90] Data scaled\n"
     ]
    },
    {
     "name": "stderr",
     "output_type": "stream",
     "text": [
      "/home/rafael/.local/lib/python3.10/site-packages/sklearn/base.py:465: UserWarning: X does not have valid feature names, but MinMaxScaler was fitted with feature names\n",
      "  warnings.warn(\n"
     ]
    },
    {
     "name": "stdout",
     "output_type": "stream",
     "text": [
      "[BATCH 90] All preprocessing done\n",
      "[BATCH 90] Fitting Model\n",
      "Training on cuda\n",
      "Epoch 1/10, Train Loss: 0.0466, Eval Loss: 0.0464\n",
      "Epoch 2/10, Train Loss: 0.0380, Eval Loss: 0.0472\n",
      "Epoch 3/10, Train Loss: 0.0311, Eval Loss: 0.0486\n",
      "Epoch 4/10, Train Loss: 0.0266, Eval Loss: 0.0494\n",
      "Epoch 5/10, Train Loss: 0.0238, Eval Loss: 0.0503\n",
      "Epoch 6/10, Train Loss: 0.0219, Eval Loss: 0.0502\n",
      "Epoch 7/10, Train Loss: 0.0204, Eval Loss: 0.0507\n",
      "Epoch 8/10, Train Loss: 0.0197, Eval Loss: 0.0501\n",
      "Epoch 9/10, Train Loss: 0.0189, Eval Loss: 0.0502\n",
      "Epoch 10/10, Train Loss: 0.0185, Eval Loss: 0.0518\n",
      "Test Loss: 0.0499\n",
      "[BATCH 90] Model fitted\n",
      "[BATCH 90] Model saved\n",
      "[BATCH 91] Current buffer size: 12901\n",
      "[BATCH 92] Model loaded\n",
      "[BATCH 92] Data scaled\n"
     ]
    },
    {
     "name": "stderr",
     "output_type": "stream",
     "text": [
      "/home/rafael/.local/lib/python3.10/site-packages/sklearn/base.py:465: UserWarning: X does not have valid feature names, but MinMaxScaler was fitted with feature names\n",
      "  warnings.warn(\n"
     ]
    },
    {
     "name": "stdout",
     "output_type": "stream",
     "text": [
      "[BATCH 92] All preprocessing done\n",
      "[BATCH 92] Fitting Model\n",
      "Training on cuda\n",
      "Epoch 1/10, Train Loss: 0.0470, Eval Loss: 0.0466\n",
      "Epoch 2/10, Train Loss: 0.0379, Eval Loss: 0.0466\n",
      "Epoch 3/10, Train Loss: 0.0314, Eval Loss: 0.0477\n",
      "Epoch 4/10, Train Loss: 0.0269, Eval Loss: 0.0484\n",
      "Epoch 5/10, Train Loss: 0.0242, Eval Loss: 0.0482\n",
      "Epoch 6/10, Train Loss: 0.0220, Eval Loss: 0.0488\n",
      "Epoch 7/10, Train Loss: 0.0209, Eval Loss: 0.0487\n",
      "Epoch 8/10, Train Loss: 0.0199, Eval Loss: 0.0488\n",
      "Epoch 9/10, Train Loss: 0.0194, Eval Loss: 0.0490\n",
      "Epoch 10/10, Train Loss: 0.0182, Eval Loss: 0.0490\n",
      "Test Loss: 0.0487\n",
      "[BATCH 92] Model fitted\n",
      "[BATCH 92] Model saved\n",
      "[BATCH 93] Current buffer size: 6738\n"
     ]
    },
    {
     "name": "stderr",
     "output_type": "stream",
     "text": [
      "                                                                                \r"
     ]
    },
    {
     "name": "stdout",
     "output_type": "stream",
     "text": [
      "[BATCH 94] Model loaded\n",
      "[BATCH 94] Data scaled\n"
     ]
    },
    {
     "name": "stderr",
     "output_type": "stream",
     "text": [
      "/home/rafael/.local/lib/python3.10/site-packages/sklearn/base.py:465: UserWarning: X does not have valid feature names, but MinMaxScaler was fitted with feature names\n",
      "  warnings.warn(\n"
     ]
    },
    {
     "name": "stdout",
     "output_type": "stream",
     "text": [
      "[BATCH 94] All preprocessing done\n",
      "[BATCH 94] Fitting Model\n",
      "Training on cuda\n",
      "Epoch 1/10, Train Loss: 0.0470, Eval Loss: 0.0461\n",
      "Epoch 2/10, Train Loss: 0.0382, Eval Loss: 0.0461\n",
      "Epoch 3/10, Train Loss: 0.0318, Eval Loss: 0.0477\n",
      "Epoch 4/10, Train Loss: 0.0274, Eval Loss: 0.0485\n",
      "Epoch 5/10, Train Loss: 0.0247, Eval Loss: 0.0493\n",
      "Epoch 6/10, Train Loss: 0.0233, Eval Loss: 0.0491\n",
      "Epoch 7/10, Train Loss: 0.0221, Eval Loss: 0.0503\n",
      "Epoch 8/10, Train Loss: 0.0213, Eval Loss: 0.0497\n",
      "Epoch 9/10, Train Loss: 0.0203, Eval Loss: 0.0497\n",
      "Epoch 10/10, Train Loss: 0.0199, Eval Loss: 0.0501\n",
      "Test Loss: 0.0488\n",
      "[BATCH 94] Model fitted\n",
      "[BATCH 94] Model saved\n",
      "[BATCH 95] Current buffer size: 14403\n",
      "[BATCH 96] Model loaded\n",
      "[BATCH 96] Data scaled\n"
     ]
    },
    {
     "name": "stderr",
     "output_type": "stream",
     "text": [
      "/home/rafael/.local/lib/python3.10/site-packages/sklearn/base.py:465: UserWarning: X does not have valid feature names, but MinMaxScaler was fitted with feature names\n",
      "  warnings.warn(\n"
     ]
    },
    {
     "name": "stdout",
     "output_type": "stream",
     "text": [
      "[BATCH 96] All preprocessing done\n",
      "[BATCH 96] Fitting Model\n",
      "Training on cuda\n",
      "Epoch 1/10, Train Loss: 0.0463, Eval Loss: 0.0464\n",
      "Epoch 2/10, Train Loss: 0.0373, Eval Loss: 0.0456\n",
      "Epoch 3/10, Train Loss: 0.0308, Eval Loss: 0.0473\n",
      "Epoch 4/10, Train Loss: 0.0276, Eval Loss: 0.0476\n",
      "Epoch 5/10, Train Loss: 0.0245, Eval Loss: 0.0476\n",
      "Epoch 6/10, Train Loss: 0.0227, Eval Loss: 0.0479\n",
      "Epoch 7/10, Train Loss: 0.0213, Eval Loss: 0.0483\n",
      "Epoch 8/10, Train Loss: 0.0206, Eval Loss: 0.0485\n",
      "Epoch 9/10, Train Loss: 0.0199, Eval Loss: 0.0480\n",
      "Epoch 10/10, Train Loss: 0.0192, Eval Loss: 0.0481\n",
      "Test Loss: 0.0483\n",
      "[BATCH 96] Model fitted\n",
      "[BATCH 96] Model saved\n",
      "[BATCH 97] Current buffer size: 7787\n"
     ]
    },
    {
     "name": "stderr",
     "output_type": "stream",
     "text": [
      "                                                                                \r"
     ]
    },
    {
     "name": "stdout",
     "output_type": "stream",
     "text": [
      "[BATCH 98] Model loaded\n",
      "[BATCH 98] Data scaled\n"
     ]
    },
    {
     "name": "stderr",
     "output_type": "stream",
     "text": [
      "/home/rafael/.local/lib/python3.10/site-packages/sklearn/base.py:465: UserWarning: X does not have valid feature names, but MinMaxScaler was fitted with feature names\n",
      "  warnings.warn(\n"
     ]
    },
    {
     "name": "stdout",
     "output_type": "stream",
     "text": [
      "[BATCH 98] All preprocessing done\n",
      "[BATCH 98] Fitting Model\n",
      "Training on cuda\n",
      "Epoch 1/10, Train Loss: 0.0468, Eval Loss: 0.0471\n",
      "Epoch 2/10, Train Loss: 0.0382, Eval Loss: 0.0481\n",
      "Epoch 3/10, Train Loss: 0.0318, Eval Loss: 0.0508\n",
      "Epoch 4/10, Train Loss: 0.0272, Eval Loss: 0.0502\n",
      "Epoch 5/10, Train Loss: 0.0248, Eval Loss: 0.0504\n",
      "Epoch 6/10, Train Loss: 0.0230, Eval Loss: 0.0518\n",
      "Epoch 7/10, Train Loss: 0.0218, Eval Loss: 0.0515\n",
      "Epoch 8/10, Train Loss: 0.0209, Eval Loss: 0.0515\n",
      "Epoch 9/10, Train Loss: 0.0202, Eval Loss: 0.0512\n",
      "Epoch 10/10, Train Loss: 0.0200, Eval Loss: 0.0516\n",
      "Test Loss: 0.0487\n",
      "[BATCH 98] Model fitted\n",
      "[BATCH 98] Model saved\n",
      "[BATCH 99] Current buffer size: 1508\n",
      "[BATCH 100] Current buffer size: 15593\n"
     ]
    },
    {
     "name": "stderr",
     "output_type": "stream",
     "text": [
      "                                                                                \r"
     ]
    },
    {
     "name": "stdout",
     "output_type": "stream",
     "text": [
      "[BATCH 101] Model loaded\n",
      "[BATCH 101] Data scaled\n"
     ]
    },
    {
     "name": "stderr",
     "output_type": "stream",
     "text": [
      "/home/rafael/.local/lib/python3.10/site-packages/sklearn/base.py:465: UserWarning: X does not have valid feature names, but MinMaxScaler was fitted with feature names\n",
      "  warnings.warn(\n"
     ]
    },
    {
     "name": "stdout",
     "output_type": "stream",
     "text": [
      "[BATCH 101] All preprocessing done\n",
      "[BATCH 101] Fitting Model\n",
      "Training on cuda\n",
      "Epoch 1/10, Train Loss: 0.0462, Eval Loss: 0.0420\n",
      "Epoch 2/10, Train Loss: 0.0377, Eval Loss: 0.0426\n",
      "Epoch 3/10, Train Loss: 0.0313, Eval Loss: 0.0434\n",
      "Epoch 4/10, Train Loss: 0.0267, Eval Loss: 0.0442\n",
      "Epoch 5/10, Train Loss: 0.0245, Eval Loss: 0.0449\n",
      "Epoch 6/10, Train Loss: 0.0229, Eval Loss: 0.0451\n",
      "Epoch 7/10, Train Loss: 0.0214, Eval Loss: 0.0458\n",
      "Epoch 8/10, Train Loss: 0.0206, Eval Loss: 0.0452\n",
      "Epoch 9/10, Train Loss: 0.0197, Eval Loss: 0.0464\n",
      "Epoch 10/10, Train Loss: 0.0192, Eval Loss: 0.0459\n",
      "Test Loss: 0.0490\n",
      "[BATCH 101] Model fitted\n",
      "[BATCH 101] Model saved\n",
      "[BATCH 102] Current buffer size: 8492\n"
     ]
    },
    {
     "name": "stderr",
     "output_type": "stream",
     "text": [
      "                                                                                \r"
     ]
    },
    {
     "name": "stdout",
     "output_type": "stream",
     "text": [
      "[BATCH 103] Model loaded\n",
      "[BATCH 103] Data scaled\n"
     ]
    },
    {
     "name": "stderr",
     "output_type": "stream",
     "text": [
      "/home/rafael/.local/lib/python3.10/site-packages/sklearn/base.py:465: UserWarning: X does not have valid feature names, but MinMaxScaler was fitted with feature names\n",
      "  warnings.warn(\n"
     ]
    },
    {
     "name": "stdout",
     "output_type": "stream",
     "text": [
      "[BATCH 103] All preprocessing done\n",
      "[BATCH 103] Fitting Model\n",
      "Training on cuda\n",
      "Epoch 1/10, Train Loss: 0.0465, Eval Loss: 0.0471\n",
      "Epoch 2/10, Train Loss: 0.0379, Eval Loss: 0.0472\n",
      "Epoch 3/10, Train Loss: 0.0318, Eval Loss: 0.0476\n",
      "Epoch 4/10, Train Loss: 0.0272, Eval Loss: 0.0480\n",
      "Epoch 5/10, Train Loss: 0.0244, Eval Loss: 0.0484\n",
      "Epoch 6/10, Train Loss: 0.0229, Eval Loss: 0.0488\n",
      "Epoch 7/10, Train Loss: 0.0219, Eval Loss: 0.0489\n",
      "Epoch 8/10, Train Loss: 0.0207, Eval Loss: 0.0501\n",
      "Epoch 9/10, Train Loss: 0.0201, Eval Loss: 0.0492\n",
      "Epoch 10/10, Train Loss: 0.0196, Eval Loss: 0.0485\n",
      "Test Loss: 0.0480\n",
      "[BATCH 103] Model fitted\n",
      "[BATCH 103] Model saved\n",
      "[BATCH 104] Current buffer size: 1948\n",
      "[BATCH 105] Current buffer size: 15994\n"
     ]
    },
    {
     "name": "stderr",
     "output_type": "stream",
     "text": [
      "                                                                                \r"
     ]
    },
    {
     "name": "stdout",
     "output_type": "stream",
     "text": [
      "[BATCH 106] Model loaded\n",
      "[BATCH 106] Data scaled\n"
     ]
    },
    {
     "name": "stderr",
     "output_type": "stream",
     "text": [
      "/home/rafael/.local/lib/python3.10/site-packages/sklearn/base.py:465: UserWarning: X does not have valid feature names, but MinMaxScaler was fitted with feature names\n",
      "  warnings.warn(\n"
     ]
    },
    {
     "name": "stdout",
     "output_type": "stream",
     "text": [
      "[BATCH 106] All preprocessing done\n",
      "[BATCH 106] Fitting Model\n",
      "Training on cuda\n",
      "Epoch 1/10, Train Loss: 0.0475, Eval Loss: 0.0452\n",
      "Epoch 2/10, Train Loss: 0.0387, Eval Loss: 0.0449\n",
      "Epoch 3/10, Train Loss: 0.0324, Eval Loss: 0.0465\n",
      "Epoch 4/10, Train Loss: 0.0280, Eval Loss: 0.0462\n",
      "Epoch 5/10, Train Loss: 0.0257, Eval Loss: 0.0461\n",
      "Epoch 6/10, Train Loss: 0.0240, Eval Loss: 0.0479\n",
      "Epoch 7/10, Train Loss: 0.0226, Eval Loss: 0.0482\n",
      "Epoch 8/10, Train Loss: 0.0218, Eval Loss: 0.0488\n",
      "Epoch 9/10, Train Loss: 0.0213, Eval Loss: 0.0477\n",
      "Epoch 10/10, Train Loss: 0.0207, Eval Loss: 0.0476\n",
      "Test Loss: 0.0484\n",
      "[BATCH 106] Model fitted\n",
      "[BATCH 106] Model saved\n",
      "[BATCH 107] Current buffer size: 9623\n",
      "[BATCH 108] Model loaded\n",
      "[BATCH 108] Data scaled\n"
     ]
    },
    {
     "name": "stderr",
     "output_type": "stream",
     "text": [
      "/home/rafael/.local/lib/python3.10/site-packages/sklearn/base.py:465: UserWarning: X does not have valid feature names, but MinMaxScaler was fitted with feature names\n",
      "  warnings.warn(\n"
     ]
    },
    {
     "name": "stdout",
     "output_type": "stream",
     "text": [
      "[BATCH 108] All preprocessing done\n",
      "[BATCH 108] Fitting Model\n",
      "Training on cuda\n",
      "Epoch 1/10, Train Loss: 0.0467, Eval Loss: 0.0442\n",
      "Epoch 2/10, Train Loss: 0.0380, Eval Loss: 0.0439\n",
      "Epoch 3/10, Train Loss: 0.0319, Eval Loss: 0.0456\n",
      "Epoch 4/10, Train Loss: 0.0272, Eval Loss: 0.0460\n",
      "Epoch 5/10, Train Loss: 0.0252, Eval Loss: 0.0461\n",
      "Epoch 6/10, Train Loss: 0.0232, Eval Loss: 0.0463\n",
      "Epoch 7/10, Train Loss: 0.0219, Eval Loss: 0.0464\n",
      "Epoch 8/10, Train Loss: 0.0209, Eval Loss: 0.0463\n",
      "Epoch 9/10, Train Loss: 0.0203, Eval Loss: 0.0461\n",
      "Epoch 10/10, Train Loss: 0.0196, Eval Loss: 0.0468\n",
      "Test Loss: 0.0488\n",
      "[BATCH 108] Model fitted\n",
      "[BATCH 108] Model saved\n",
      "[BATCH 109] Current buffer size: 2792\n",
      "[BATCH 110] Current buffer size: 17169\n",
      "[BATCH 111] Model loaded\n",
      "[BATCH 111] Data scaled\n"
     ]
    },
    {
     "name": "stderr",
     "output_type": "stream",
     "text": [
      "/home/rafael/.local/lib/python3.10/site-packages/sklearn/base.py:465: UserWarning: X does not have valid feature names, but MinMaxScaler was fitted with feature names\n",
      "  warnings.warn(\n"
     ]
    },
    {
     "name": "stdout",
     "output_type": "stream",
     "text": [
      "[BATCH 111] All preprocessing done\n",
      "[BATCH 111] Fitting Model\n",
      "Training on cuda\n",
      "Epoch 1/10, Train Loss: 0.0479, Eval Loss: 0.0463\n",
      "Epoch 2/10, Train Loss: 0.0391, Eval Loss: 0.0470\n",
      "Epoch 3/10, Train Loss: 0.0332, Eval Loss: 0.0469\n",
      "Epoch 4/10, Train Loss: 0.0285, Eval Loss: 0.0477\n",
      "Epoch 5/10, Train Loss: 0.0260, Eval Loss: 0.0478\n",
      "Epoch 6/10, Train Loss: 0.0247, Eval Loss: 0.0481\n",
      "Epoch 7/10, Train Loss: 0.0232, Eval Loss: 0.0487\n",
      "Epoch 8/10, Train Loss: 0.0220, Eval Loss: 0.0485\n",
      "Epoch 9/10, Train Loss: 0.0216, Eval Loss: 0.0486\n",
      "Epoch 10/10, Train Loss: 0.0211, Eval Loss: 0.0484\n",
      "Test Loss: 0.0480\n",
      "[BATCH 111] Model fitted\n",
      "[BATCH 111] Model saved\n",
      "[BATCH 112] Current buffer size: 11287\n"
     ]
    },
    {
     "name": "stderr",
     "output_type": "stream",
     "text": [
      "                                                                                \r"
     ]
    },
    {
     "name": "stdout",
     "output_type": "stream",
     "text": [
      "[BATCH 113] Model loaded\n",
      "[BATCH 113] Data scaled\n"
     ]
    },
    {
     "name": "stderr",
     "output_type": "stream",
     "text": [
      "/home/rafael/.local/lib/python3.10/site-packages/sklearn/base.py:465: UserWarning: X does not have valid feature names, but MinMaxScaler was fitted with feature names\n",
      "  warnings.warn(\n"
     ]
    },
    {
     "name": "stdout",
     "output_type": "stream",
     "text": [
      "[BATCH 113] All preprocessing done\n",
      "[BATCH 113] Fitting Model\n",
      "Training on cuda\n",
      "Epoch 1/10, Train Loss: 0.0471, Eval Loss: 0.0471\n",
      "Epoch 2/10, Train Loss: 0.0386, Eval Loss: 0.0471\n",
      "Epoch 3/10, Train Loss: 0.0328, Eval Loss: 0.0471\n",
      "Epoch 4/10, Train Loss: 0.0282, Eval Loss: 0.0484\n",
      "Epoch 5/10, Train Loss: 0.0255, Eval Loss: 0.0485\n",
      "Epoch 6/10, Train Loss: 0.0239, Eval Loss: 0.0485\n",
      "Epoch 7/10, Train Loss: 0.0224, Eval Loss: 0.0494\n",
      "Epoch 8/10, Train Loss: 0.0216, Eval Loss: 0.0496\n",
      "Epoch 9/10, Train Loss: 0.0209, Eval Loss: 0.0487\n",
      "Epoch 10/10, Train Loss: 0.0199, Eval Loss: 0.0490\n",
      "Test Loss: 0.0490\n",
      "[BATCH 113] Model fitted\n",
      "[BATCH 113] Model saved\n",
      "[BATCH 114] Current buffer size: 5407\n",
      "[BATCH 115] Current buffer size: 18691\n"
     ]
    },
    {
     "name": "stderr",
     "output_type": "stream",
     "text": [
      "                                                                                \r"
     ]
    },
    {
     "name": "stdout",
     "output_type": "stream",
     "text": [
      "[BATCH 116] Model loaded\n",
      "[BATCH 116] Data scaled\n"
     ]
    },
    {
     "name": "stderr",
     "output_type": "stream",
     "text": [
      "/home/rafael/.local/lib/python3.10/site-packages/sklearn/base.py:465: UserWarning: X does not have valid feature names, but MinMaxScaler was fitted with feature names\n",
      "  warnings.warn(\n"
     ]
    },
    {
     "name": "stdout",
     "output_type": "stream",
     "text": [
      "[BATCH 116] All preprocessing done\n",
      "[BATCH 116] Fitting Model\n",
      "Training on cuda\n",
      "Epoch 1/10, Train Loss: 0.0464, Eval Loss: 0.0466\n",
      "Epoch 2/10, Train Loss: 0.0382, Eval Loss: 0.0480\n",
      "Epoch 3/10, Train Loss: 0.0321, Eval Loss: 0.0480\n",
      "Epoch 4/10, Train Loss: 0.0279, Eval Loss: 0.0491\n",
      "Epoch 5/10, Train Loss: 0.0256, Eval Loss: 0.0485\n",
      "Epoch 6/10, Train Loss: 0.0234, Eval Loss: 0.0497\n",
      "Epoch 7/10, Train Loss: 0.0224, Eval Loss: 0.0497\n",
      "Epoch 8/10, Train Loss: 0.0216, Eval Loss: 0.0500\n",
      "Epoch 9/10, Train Loss: 0.0206, Eval Loss: 0.0499\n",
      "Epoch 10/10, Train Loss: 0.0203, Eval Loss: 0.0493\n",
      "Test Loss: 0.0478\n",
      "[BATCH 116] Model fitted\n",
      "[BATCH 116] Model saved\n",
      "[BATCH 117] Current buffer size: 11557\n"
     ]
    },
    {
     "name": "stderr",
     "output_type": "stream",
     "text": [
      "                                                                                \r"
     ]
    },
    {
     "name": "stdout",
     "output_type": "stream",
     "text": [
      "[BATCH 118] Model loaded\n",
      "[BATCH 118] Data scaled\n"
     ]
    },
    {
     "name": "stderr",
     "output_type": "stream",
     "text": [
      "/home/rafael/.local/lib/python3.10/site-packages/sklearn/base.py:465: UserWarning: X does not have valid feature names, but MinMaxScaler was fitted with feature names\n",
      "  warnings.warn(\n"
     ]
    },
    {
     "name": "stdout",
     "output_type": "stream",
     "text": [
      "[BATCH 118] All preprocessing done\n",
      "[BATCH 118] Fitting Model\n",
      "Training on cuda\n",
      "Epoch 1/10, Train Loss: 0.0458, Eval Loss: 0.0461\n",
      "Epoch 2/10, Train Loss: 0.0371, Eval Loss: 0.0456\n",
      "Epoch 3/10, Train Loss: 0.0314, Eval Loss: 0.0454\n",
      "Epoch 4/10, Train Loss: 0.0272, Eval Loss: 0.0458\n",
      "Epoch 5/10, Train Loss: 0.0245, Eval Loss: 0.0468\n",
      "Epoch 6/10, Train Loss: 0.0232, Eval Loss: 0.0462\n",
      "Epoch 7/10, Train Loss: 0.0220, Eval Loss: 0.0463\n",
      "Epoch 8/10, Train Loss: 0.0208, Eval Loss: 0.0466\n",
      "Epoch 9/10, Train Loss: 0.0205, Eval Loss: 0.0463\n",
      "Epoch 10/10, Train Loss: 0.0197, Eval Loss: 0.0463\n",
      "Test Loss: 0.0481\n",
      "[BATCH 118] Model fitted\n",
      "[BATCH 118] Model saved\n",
      "[BATCH 119] Current buffer size: 5156\n",
      "[BATCH 120] Current buffer size: 18985\n",
      "[BATCH 121] Model loaded\n",
      "[BATCH 121] Data scaled\n"
     ]
    },
    {
     "name": "stderr",
     "output_type": "stream",
     "text": [
      "/home/rafael/.local/lib/python3.10/site-packages/sklearn/base.py:465: UserWarning: X does not have valid feature names, but MinMaxScaler was fitted with feature names\n",
      "  warnings.warn(\n"
     ]
    },
    {
     "name": "stdout",
     "output_type": "stream",
     "text": [
      "[BATCH 121] All preprocessing done\n",
      "[BATCH 121] Fitting Model\n",
      "Training on cuda\n",
      "Epoch 1/10, Train Loss: 0.0474, Eval Loss: 0.0450\n",
      "Epoch 2/10, Train Loss: 0.0384, Eval Loss: 0.0455\n",
      "Epoch 3/10, Train Loss: 0.0324, Eval Loss: 0.0463\n",
      "Epoch 4/10, Train Loss: 0.0278, Eval Loss: 0.0478\n",
      "Epoch 5/10, Train Loss: 0.0250, Eval Loss: 0.0484\n",
      "Epoch 6/10, Train Loss: 0.0235, Eval Loss: 0.0479\n",
      "Epoch 7/10, Train Loss: 0.0223, Eval Loss: 0.0482\n",
      "Epoch 8/10, Train Loss: 0.0216, Eval Loss: 0.0475\n",
      "Epoch 9/10, Train Loss: 0.0206, Eval Loss: 0.0492\n",
      "Epoch 10/10, Train Loss: 0.0202, Eval Loss: 0.0483\n",
      "Test Loss: 0.0480\n",
      "[BATCH 121] Model fitted\n",
      "[BATCH 121] Model saved\n",
      "[BATCH 122] Current buffer size: 12866\n",
      "[BATCH 123] Model loaded\n",
      "[BATCH 123] Data scaled\n"
     ]
    },
    {
     "name": "stderr",
     "output_type": "stream",
     "text": [
      "/home/rafael/.local/lib/python3.10/site-packages/sklearn/base.py:465: UserWarning: X does not have valid feature names, but MinMaxScaler was fitted with feature names\n",
      "  warnings.warn(\n"
     ]
    },
    {
     "name": "stdout",
     "output_type": "stream",
     "text": [
      "[BATCH 123] All preprocessing done\n",
      "[BATCH 123] Fitting Model\n",
      "Training on cuda\n",
      "Epoch 1/10, Train Loss: 0.0473, Eval Loss: 0.0473\n",
      "Epoch 2/10, Train Loss: 0.0388, Eval Loss: 0.0478\n",
      "Epoch 3/10, Train Loss: 0.0326, Eval Loss: 0.0464\n",
      "Epoch 4/10, Train Loss: 0.0284, Eval Loss: 0.0467\n",
      "Epoch 5/10, Train Loss: 0.0257, Eval Loss: 0.0472\n",
      "Epoch 6/10, Train Loss: 0.0234, Eval Loss: 0.0475\n",
      "Epoch 7/10, Train Loss: 0.0223, Eval Loss: 0.0489\n",
      "Epoch 8/10, Train Loss: 0.0219, Eval Loss: 0.0487\n",
      "Epoch 9/10, Train Loss: 0.0206, Eval Loss: 0.0488\n",
      "Epoch 10/10, Train Loss: 0.0198, Eval Loss: 0.0479\n",
      "Test Loss: 0.0482\n",
      "[BATCH 123] Model fitted\n",
      "[BATCH 123] Model saved\n",
      "[BATCH 124] Current buffer size: 5968\n",
      "[BATCH 125] Current buffer size: 19272\n",
      "[BATCH 126] Model loaded\n",
      "[BATCH 126] Data scaled\n"
     ]
    },
    {
     "name": "stderr",
     "output_type": "stream",
     "text": [
      "/home/rafael/.local/lib/python3.10/site-packages/sklearn/base.py:465: UserWarning: X does not have valid feature names, but MinMaxScaler was fitted with feature names\n",
      "  warnings.warn(\n"
     ]
    },
    {
     "name": "stdout",
     "output_type": "stream",
     "text": [
      "[BATCH 126] All preprocessing done\n",
      "[BATCH 126] Fitting Model\n",
      "Training on cuda\n",
      "Epoch 1/10, Train Loss: 0.0464, Eval Loss: 0.0464\n",
      "Epoch 2/10, Train Loss: 0.0380, Eval Loss: 0.0482\n",
      "Epoch 3/10, Train Loss: 0.0315, Eval Loss: 0.0503\n",
      "Epoch 4/10, Train Loss: 0.0273, Eval Loss: 0.0489\n",
      "Epoch 5/10, Train Loss: 0.0246, Eval Loss: 0.0502\n",
      "Epoch 6/10, Train Loss: 0.0225, Eval Loss: 0.0503\n",
      "Epoch 7/10, Train Loss: 0.0214, Eval Loss: 0.0517\n",
      "Epoch 8/10, Train Loss: 0.0210, Eval Loss: 0.0503\n",
      "Epoch 9/10, Train Loss: 0.0204, Eval Loss: 0.0513\n",
      "Epoch 10/10, Train Loss: 0.0196, Eval Loss: 0.0509\n",
      "Test Loss: 0.0490\n",
      "[BATCH 126] Model fitted\n",
      "[BATCH 126] Model saved\n",
      "[BATCH 127] Current buffer size: 12720\n"
     ]
    },
    {
     "name": "stderr",
     "output_type": "stream",
     "text": [
      "                                                                                \r"
     ]
    },
    {
     "name": "stdout",
     "output_type": "stream",
     "text": [
      "[BATCH 128] Model loaded\n",
      "[BATCH 128] Data scaled\n"
     ]
    },
    {
     "name": "stderr",
     "output_type": "stream",
     "text": [
      "/home/rafael/.local/lib/python3.10/site-packages/sklearn/base.py:465: UserWarning: X does not have valid feature names, but MinMaxScaler was fitted with feature names\n",
      "  warnings.warn(\n"
     ]
    },
    {
     "name": "stdout",
     "output_type": "stream",
     "text": [
      "[BATCH 128] All preprocessing done\n",
      "[BATCH 128] Fitting Model\n",
      "Training on cuda\n",
      "Epoch 1/10, Train Loss: 0.0459, Eval Loss: 0.0457\n",
      "Epoch 2/10, Train Loss: 0.0371, Eval Loss: 0.0461\n",
      "Epoch 3/10, Train Loss: 0.0314, Eval Loss: 0.0477\n",
      "Epoch 4/10, Train Loss: 0.0274, Eval Loss: 0.0491\n",
      "Epoch 5/10, Train Loss: 0.0244, Eval Loss: 0.0486\n",
      "Epoch 6/10, Train Loss: 0.0230, Eval Loss: 0.0496\n",
      "Epoch 7/10, Train Loss: 0.0219, Eval Loss: 0.0494\n",
      "Epoch 8/10, Train Loss: 0.0211, Eval Loss: 0.0499\n",
      "Epoch 9/10, Train Loss: 0.0201, Eval Loss: 0.0500\n",
      "Epoch 10/10, Train Loss: 0.0192, Eval Loss: 0.0504\n",
      "Test Loss: 0.0494\n",
      "[BATCH 128] Model fitted\n",
      "[BATCH 128] Model saved\n",
      "[BATCH 129] Current buffer size: 6422\n"
     ]
    },
    {
     "name": "stderr",
     "output_type": "stream",
     "text": [
      "                                                                                \r"
     ]
    },
    {
     "name": "stdout",
     "output_type": "stream",
     "text": [
      "[BATCH 130] Model loaded\n",
      "[BATCH 130] Data scaled\n"
     ]
    },
    {
     "name": "stderr",
     "output_type": "stream",
     "text": [
      "/home/rafael/.local/lib/python3.10/site-packages/sklearn/base.py:465: UserWarning: X does not have valid feature names, but MinMaxScaler was fitted with feature names\n",
      "  warnings.warn(\n"
     ]
    },
    {
     "name": "stdout",
     "output_type": "stream",
     "text": [
      "[BATCH 130] All preprocessing done\n",
      "[BATCH 130] Fitting Model\n",
      "Training on cuda\n",
      "Epoch 1/10, Train Loss: 0.0471, Eval Loss: 0.0455\n",
      "Epoch 2/10, Train Loss: 0.0390, Eval Loss: 0.0445\n",
      "Epoch 3/10, Train Loss: 0.0321, Eval Loss: 0.0455\n",
      "Epoch 4/10, Train Loss: 0.0278, Eval Loss: 0.0482\n",
      "Epoch 5/10, Train Loss: 0.0253, Eval Loss: 0.0466\n",
      "Epoch 6/10, Train Loss: 0.0236, Eval Loss: 0.0473\n",
      "Epoch 7/10, Train Loss: 0.0225, Eval Loss: 0.0471\n",
      "Epoch 8/10, Train Loss: 0.0212, Eval Loss: 0.0475\n",
      "Epoch 9/10, Train Loss: 0.0207, Eval Loss: 0.0477\n",
      "Epoch 10/10, Train Loss: 0.0202, Eval Loss: 0.0474\n",
      "Test Loss: 0.0483\n",
      "[BATCH 130] Model fitted\n",
      "[BATCH 130] Model saved\n",
      "[BATCH 131] Current buffer size: 13246\n"
     ]
    },
    {
     "name": "stderr",
     "output_type": "stream",
     "text": [
      "                                                                                \r"
     ]
    },
    {
     "name": "stdout",
     "output_type": "stream",
     "text": [
      "[BATCH 132] Model loaded\n",
      "[BATCH 132] Data scaled\n"
     ]
    },
    {
     "name": "stderr",
     "output_type": "stream",
     "text": [
      "/home/rafael/.local/lib/python3.10/site-packages/sklearn/base.py:465: UserWarning: X does not have valid feature names, but MinMaxScaler was fitted with feature names\n",
      "  warnings.warn(\n"
     ]
    },
    {
     "name": "stdout",
     "output_type": "stream",
     "text": [
      "[BATCH 132] All preprocessing done\n",
      "[BATCH 132] Fitting Model\n",
      "Training on cuda\n",
      "Epoch 1/10, Train Loss: 0.0468, Eval Loss: 0.0448\n",
      "Epoch 2/10, Train Loss: 0.0379, Eval Loss: 0.0455\n",
      "Epoch 3/10, Train Loss: 0.0321, Eval Loss: 0.0470\n",
      "Epoch 4/10, Train Loss: 0.0275, Eval Loss: 0.0469\n",
      "Epoch 5/10, Train Loss: 0.0250, Eval Loss: 0.0474\n",
      "Epoch 6/10, Train Loss: 0.0232, Eval Loss: 0.0481\n",
      "Epoch 7/10, Train Loss: 0.0219, Eval Loss: 0.0480\n",
      "Epoch 8/10, Train Loss: 0.0210, Eval Loss: 0.0482\n",
      "Epoch 9/10, Train Loss: 0.0206, Eval Loss: 0.0488\n",
      "Epoch 10/10, Train Loss: 0.0200, Eval Loss: 0.0477\n",
      "Test Loss: 0.0478\n",
      "[BATCH 132] Model fitted\n",
      "[BATCH 132] Model saved\n",
      "[BATCH 133] Current buffer size: 6567\n"
     ]
    },
    {
     "name": "stderr",
     "output_type": "stream",
     "text": [
      "                                                                                \r"
     ]
    },
    {
     "name": "stdout",
     "output_type": "stream",
     "text": [
      "[BATCH 134] Model loaded\n",
      "[BATCH 134] Data scaled\n"
     ]
    },
    {
     "name": "stderr",
     "output_type": "stream",
     "text": [
      "/home/rafael/.local/lib/python3.10/site-packages/sklearn/base.py:465: UserWarning: X does not have valid feature names, but MinMaxScaler was fitted with feature names\n",
      "  warnings.warn(\n"
     ]
    },
    {
     "name": "stdout",
     "output_type": "stream",
     "text": [
      "[BATCH 134] All preprocessing done\n",
      "[BATCH 134] Fitting Model\n",
      "Training on cuda\n",
      "Epoch 1/10, Train Loss: 0.0474, Eval Loss: 0.0447\n",
      "Epoch 2/10, Train Loss: 0.0388, Eval Loss: 0.0452\n",
      "Epoch 3/10, Train Loss: 0.0327, Eval Loss: 0.0468\n",
      "Epoch 4/10, Train Loss: 0.0287, Eval Loss: 0.0469\n",
      "Epoch 5/10, Train Loss: 0.0256, Eval Loss: 0.0474\n",
      "Epoch 6/10, Train Loss: 0.0238, Eval Loss: 0.0479\n",
      "Epoch 7/10, Train Loss: 0.0229, Eval Loss: 0.0470\n",
      "Epoch 8/10, Train Loss: 0.0216, Eval Loss: 0.0478\n",
      "Epoch 9/10, Train Loss: 0.0208, Eval Loss: 0.0484\n",
      "Epoch 10/10, Train Loss: 0.0202, Eval Loss: 0.0484\n",
      "Test Loss: 0.0486\n",
      "[BATCH 134] Model fitted\n",
      "[BATCH 134] Model saved\n",
      "[BATCH 135] Current buffer size: 13562\n",
      "[BATCH 136] Model loaded\n",
      "[BATCH 136] Data scaled\n"
     ]
    },
    {
     "name": "stderr",
     "output_type": "stream",
     "text": [
      "/home/rafael/.local/lib/python3.10/site-packages/sklearn/base.py:465: UserWarning: X does not have valid feature names, but MinMaxScaler was fitted with feature names\n",
      "  warnings.warn(\n"
     ]
    },
    {
     "name": "stdout",
     "output_type": "stream",
     "text": [
      "[BATCH 136] All preprocessing done\n",
      "[BATCH 136] Fitting Model\n",
      "Training on cuda\n",
      "Epoch 1/10, Train Loss: 0.0462, Eval Loss: 0.0464\n",
      "Epoch 2/10, Train Loss: 0.0378, Eval Loss: 0.0461\n",
      "Epoch 3/10, Train Loss: 0.0315, Eval Loss: 0.0478\n",
      "Epoch 4/10, Train Loss: 0.0273, Eval Loss: 0.0489\n",
      "Epoch 5/10, Train Loss: 0.0250, Eval Loss: 0.0495\n",
      "Epoch 6/10, Train Loss: 0.0230, Eval Loss: 0.0483\n",
      "Epoch 7/10, Train Loss: 0.0218, Eval Loss: 0.0495\n",
      "Epoch 8/10, Train Loss: 0.0210, Eval Loss: 0.0507\n",
      "Epoch 9/10, Train Loss: 0.0200, Eval Loss: 0.0500\n",
      "Epoch 10/10, Train Loss: 0.0194, Eval Loss: 0.0506\n",
      "Test Loss: 0.0487\n",
      "[BATCH 136] Model fitted\n",
      "[BATCH 136] Model saved\n",
      "[BATCH 137] Current buffer size: 6978\n"
     ]
    },
    {
     "name": "stderr",
     "output_type": "stream",
     "text": [
      "                                                                                \r"
     ]
    },
    {
     "name": "stdout",
     "output_type": "stream",
     "text": [
      "[BATCH 138] Model loaded\n",
      "[BATCH 138] Data scaled\n"
     ]
    },
    {
     "name": "stderr",
     "output_type": "stream",
     "text": [
      "/home/rafael/.local/lib/python3.10/site-packages/sklearn/base.py:465: UserWarning: X does not have valid feature names, but MinMaxScaler was fitted with feature names\n",
      "  warnings.warn(\n"
     ]
    },
    {
     "name": "stdout",
     "output_type": "stream",
     "text": [
      "[BATCH 138] All preprocessing done\n",
      "[BATCH 138] Fitting Model\n",
      "Training on cuda\n",
      "Epoch 1/10, Train Loss: 0.0458, Eval Loss: 0.0457\n",
      "Epoch 2/10, Train Loss: 0.0376, Eval Loss: 0.0451\n",
      "Epoch 3/10, Train Loss: 0.0313, Eval Loss: 0.0456\n",
      "Epoch 4/10, Train Loss: 0.0278, Eval Loss: 0.0475\n",
      "Epoch 5/10, Train Loss: 0.0248, Eval Loss: 0.0472\n",
      "Epoch 6/10, Train Loss: 0.0232, Eval Loss: 0.0481\n",
      "Epoch 7/10, Train Loss: 0.0217, Eval Loss: 0.0473\n",
      "Epoch 8/10, Train Loss: 0.0212, Eval Loss: 0.0478\n",
      "Epoch 9/10, Train Loss: 0.0203, Eval Loss: 0.0480\n",
      "Epoch 10/10, Train Loss: 0.0199, Eval Loss: 0.0490\n",
      "Test Loss: 0.0499\n",
      "[BATCH 138] Model fitted\n"
     ]
    },
    {
     "name": "stderr",
     "output_type": "stream",
     "text": [
      "ERROR:py4j.clientserver:There was an exception while executing the Python Proxy on the Python Side.\n",
      "Traceback (most recent call last):\n",
      "  File \"/home/rafael/Documentos/CAA/Project2/venv/lib/python3.10/site-packages/py4j/clientserver.py\", line 617, in _call_proxy\n",
      "    return_value = getattr(self.pool[obj_id], method)(*params)\n",
      "  File \"/home/rafael/Documentos/CAA/Project2/venv/lib/python3.10/site-packages/pyspark/sql/utils.py\", line 120, in call\n",
      "    raise e\n",
      "  File \"/home/rafael/Documentos/CAA/Project2/venv/lib/python3.10/site-packages/pyspark/sql/utils.py\", line 117, in call\n",
      "    self.func(DataFrame(jdf, wrapped_session_jdf), batch_id)\n",
      "  File \"/tmp/ipykernel_28607/3251011408.py\", line 62, in fine_tune\n",
      "    broad_data_buffer = sc.broadcast([])\n",
      "  File \"/home/rafael/Documentos/CAA/Project2/venv/lib/python3.10/site-packages/pyspark/context.py\", line 1765, in broadcast\n",
      "    return Broadcast(self, value, self._pickled_broadcast_vars)\n",
      "  File \"/home/rafael/Documentos/CAA/Project2/venv/lib/python3.10/site-packages/pyspark/broadcast.py\", line 138, in __init__\n",
      "    self._jbroadcast = sc._jsc.broadcast(self._python_broadcast)\n",
      "  File \"/home/rafael/Documentos/CAA/Project2/venv/lib/python3.10/site-packages/py4j/java_gateway.py\", line 1322, in __call__\n",
      "    return_value = get_return_value(\n",
      "  File \"/home/rafael/Documentos/CAA/Project2/venv/lib/python3.10/site-packages/pyspark/errors/exceptions/captured.py\", line 179, in deco\n",
      "    return f(*a, **kw)\n",
      "  File \"/home/rafael/Documentos/CAA/Project2/venv/lib/python3.10/site-packages/py4j/protocol.py\", line 326, in get_return_value\n",
      "    raise Py4JJavaError(\n",
      "py4j.protocol.Py4JJavaError: An error occurred while calling o18.broadcast.\n",
      ": java.lang.InterruptedException\n",
      "\tat java.util.concurrent.locks.AbstractQueuedSynchronizer.tryAcquireSharedNanos(AbstractQueuedSynchronizer.java:1326)\n",
      "\tat scala.concurrent.impl.Promise$DefaultPromise.tryAwait(Promise.scala:248)\n",
      "\tat scala.concurrent.impl.Promise$DefaultPromise.ready(Promise.scala:258)\n",
      "\tat scala.concurrent.impl.Promise$DefaultPromise.result(Promise.scala:263)\n",
      "\tat org.apache.spark.util.SparkThreadUtils$.awaitResult(SparkThreadUtils.scala:48)\n",
      "\tat org.apache.spark.util.ThreadUtils$.awaitResult(ThreadUtils.scala:310)\n",
      "\tat org.apache.spark.rpc.RpcTimeout.awaitResult(RpcTimeout.scala:75)\n",
      "\tat org.apache.spark.rpc.RpcEndpointRef.askSync(RpcEndpointRef.scala:101)\n",
      "\tat org.apache.spark.rpc.RpcEndpointRef.askSync(RpcEndpointRef.scala:85)\n",
      "\tat org.apache.spark.storage.BlockManagerMaster.updateBlockInfo(BlockManagerMaster.scala:105)\n",
      "\tat org.apache.spark.storage.BlockManager.tryToReportBlockStatus(BlockManager.scala:870)\n",
      "\tat org.apache.spark.storage.BlockManager.reportBlockStatus(BlockManager.scala:849)\n",
      "\tat org.apache.spark.storage.BlockManager$BlockStoreUpdater.$anonfun$save$1(BlockManager.scala:416)\n",
      "\tat org.apache.spark.storage.BlockManager.org$apache$spark$storage$BlockManager$$doPut(BlockManager.scala:1524)\n",
      "\tat org.apache.spark.storage.BlockManager$BlockStoreUpdater.save(BlockManager.scala:380)\n",
      "\tat org.apache.spark.storage.BlockManager.putBytes(BlockManager.scala:1468)\n",
      "\tat org.apache.spark.broadcast.TorrentBroadcast.$anonfun$writeBlocks$1(TorrentBroadcast.scala:171)\n",
      "\tat org.apache.spark.broadcast.TorrentBroadcast.$anonfun$writeBlocks$1$adapted(TorrentBroadcast.scala:165)\n",
      "\tat scala.collection.IndexedSeqOptimized.foreach(IndexedSeqOptimized.scala:36)\n",
      "\tat scala.collection.IndexedSeqOptimized.foreach$(IndexedSeqOptimized.scala:33)\n",
      "\tat scala.collection.mutable.ArrayOps$ofRef.foreach(ArrayOps.scala:198)\n",
      "\tat org.apache.spark.broadcast.TorrentBroadcast.writeBlocks(TorrentBroadcast.scala:165)\n",
      "\tat org.apache.spark.broadcast.TorrentBroadcast.<init>(TorrentBroadcast.scala:99)\n",
      "\tat org.apache.spark.broadcast.TorrentBroadcastFactory.newBroadcast(TorrentBroadcastFactory.scala:38)\n",
      "\tat org.apache.spark.broadcast.BroadcastManager.newBroadcast(BroadcastManager.scala:78)\n",
      "\tat org.apache.spark.SparkContext.broadcastInternal(SparkContext.scala:1662)\n",
      "\tat org.apache.spark.SparkContext.broadcast(SparkContext.scala:1644)\n",
      "\tat org.apache.spark.api.java.JavaSparkContext.broadcast(JavaSparkContext.scala:546)\n",
      "\tat sun.reflect.GeneratedMethodAccessor60.invoke(Unknown Source)\n",
      "\tat sun.reflect.DelegatingMethodAccessorImpl.invoke(DelegatingMethodAccessorImpl.java:43)\n",
      "\tat java.lang.reflect.Method.invoke(Method.java:498)\n",
      "\tat py4j.reflection.MethodInvoker.invoke(MethodInvoker.java:244)\n",
      "\tat py4j.reflection.ReflectionEngine.invoke(ReflectionEngine.java:374)\n",
      "\tat py4j.Gateway.invoke(Gateway.java:282)\n",
      "\tat py4j.commands.AbstractCommand.invokeMethod(AbstractCommand.java:132)\n",
      "\tat py4j.commands.CallCommand.execute(CallCommand.java:79)\n",
      "\tat py4j.ClientServerConnection.sendCommand(ClientServerConnection.java:244)\n",
      "\tat py4j.CallbackClient.sendCommand(CallbackClient.java:384)\n",
      "\tat py4j.CallbackClient.sendCommand(CallbackClient.java:356)\n",
      "\tat py4j.reflection.PythonProxyHandler.invoke(PythonProxyHandler.java:106)\n",
      "\tat com.sun.proxy.$Proxy32.call(Unknown Source)\n",
      "\tat org.apache.spark.sql.execution.streaming.sources.PythonForeachBatchHelper$.$anonfun$callForeachBatch$1(ForeachBatchSink.scala:53)\n",
      "\tat org.apache.spark.sql.execution.streaming.sources.PythonForeachBatchHelper$.$anonfun$callForeachBatch$1$adapted(ForeachBatchSink.scala:53)\n",
      "\tat org.apache.spark.sql.execution.streaming.sources.ForeachBatchSink.addBatch(ForeachBatchSink.scala:34)\n",
      "\tat org.apache.spark.sql.execution.streaming.MicroBatchExecution.$anonfun$runBatch$17(MicroBatchExecution.scala:732)\n",
      "\tat org.apache.spark.sql.execution.SQLExecution$.$anonfun$withNewExecutionId$6(SQLExecution.scala:125)\n",
      "\tat org.apache.spark.sql.execution.SQLExecution$.withSQLConfPropagated(SQLExecution.scala:201)\n",
      "\tat org.apache.spark.sql.execution.SQLExecution$.$anonfun$withNewExecutionId$1(SQLExecution.scala:108)\n",
      "\tat org.apache.spark.sql.SparkSession.withActive(SparkSession.scala:900)\n",
      "\tat org.apache.spark.sql.execution.SQLExecution$.withNewExecutionId(SQLExecution.scala:66)\n",
      "\tat org.apache.spark.sql.execution.streaming.MicroBatchExecution.$anonfun$runBatch$16(MicroBatchExecution.scala:729)\n",
      "\tat org.apache.spark.sql.execution.streaming.ProgressReporter.reportTimeTaken(ProgressReporter.scala:427)\n",
      "\tat org.apache.spark.sql.execution.streaming.ProgressReporter.reportTimeTaken$(ProgressReporter.scala:425)\n",
      "\tat org.apache.spark.sql.execution.streaming.StreamExecution.reportTimeTaken(StreamExecution.scala:67)\n",
      "\tat org.apache.spark.sql.execution.streaming.MicroBatchExecution.runBatch(MicroBatchExecution.scala:729)\n",
      "\tat org.apache.spark.sql.execution.streaming.MicroBatchExecution.$anonfun$runActivatedStream$2(MicroBatchExecution.scala:286)\n",
      "\tat scala.runtime.java8.JFunction0$mcV$sp.apply(JFunction0$mcV$sp.java:23)\n",
      "\tat org.apache.spark.sql.execution.streaming.ProgressReporter.reportTimeTaken(ProgressReporter.scala:427)\n",
      "\tat org.apache.spark.sql.execution.streaming.ProgressReporter.reportTimeTaken$(ProgressReporter.scala:425)\n",
      "\tat org.apache.spark.sql.execution.streaming.StreamExecution.reportTimeTaken(StreamExecution.scala:67)\n",
      "\tat org.apache.spark.sql.execution.streaming.MicroBatchExecution.$anonfun$runActivatedStream$1(MicroBatchExecution.scala:249)\n",
      "\tat org.apache.spark.sql.execution.streaming.ProcessingTimeExecutor.execute(TriggerExecutor.scala:67)\n",
      "\tat org.apache.spark.sql.execution.streaming.MicroBatchExecution.runActivatedStream(MicroBatchExecution.scala:239)\n",
      "\tat org.apache.spark.sql.execution.streaming.StreamExecution.$anonfun$runStream$1(StreamExecution.scala:311)\n",
      "\tat scala.runtime.java8.JFunction0$mcV$sp.apply(JFunction0$mcV$sp.java:23)\n",
      "\tat org.apache.spark.sql.SparkSession.withActive(SparkSession.scala:900)\n",
      "\tat org.apache.spark.sql.execution.streaming.StreamExecution.org$apache$spark$sql$execution$streaming$StreamExecution$$runStream(StreamExecution.scala:289)\n",
      "\tat org.apache.spark.sql.execution.streaming.StreamExecution$$anon$1.$anonfun$run$1(StreamExecution.scala:211)\n",
      "\tat scala.runtime.java8.JFunction0$mcV$sp.apply(JFunction0$mcV$sp.java:23)\n",
      "\tat org.apache.spark.JobArtifactSet$.withActiveJobArtifactState(JobArtifactSet.scala:94)\n",
      "\tat org.apache.spark.sql.execution.streaming.StreamExecution$$anon$1.run(StreamExecution.scala:211)\n",
      "\n"
     ]
    },
    {
     "name": "stdout",
     "output_type": "stream",
     "text": [
      "[BATCH 138] Model saved\n"
     ]
    }
   ],
   "source": [
    "# delete query 'ratings_' if it exists\n",
    "for q in spark.streams.active:\n",
    "    if q.name == \"ratings_\":\n",
    "        q.stop()\n",
    "\n",
    "\n",
    "def fine_tune(batch_df, batch_id):\n",
    "    if batch_df.count() == 0:\n",
    "        print(f\"[BATCH {batch_id}] Empty batch\")\n",
    "        return\n",
    "    \n",
    "    batch_pandas = batch_df.toPandas()\n",
    "\n",
    "    for user in batch_pandas[\"userId\"]:\n",
    "        if user not in user2idx:\n",
    "            user2idx[user] = len(user2idx)\n",
    "\n",
    "    for item in batch_pandas[\"movieId\"]:\n",
    "        if item not in item2idx:\n",
    "            item2idx[item] = len(item2idx)\n",
    "    \n",
    "    # update accumulated DataFrame with new batch as dict\n",
    "    global broad_data_buffer\n",
    "    broad_data_buffer.unpersist()\n",
    "    data_buffer = broad_data_buffer.value.copy()\n",
    "    data_buffer.extend(batch_pandas.to_dict(orient=\"records\"))\n",
    "\n",
    "    while len(data_buffer) < 20000:\n",
    "        broad_data_buffer = sc.broadcast(data_buffer)\n",
    "        print(f\"[BATCH {batch_id}] Current buffer size: {len(data_buffer)}\")\n",
    "        return\n",
    "\n",
    "    model.load_state_dict(torch.load(\"model.pth\"))\n",
    "    print(f\"[BATCH {batch_id}] Model loaded\")\n",
    "\n",
    "    data_buffer_df = pd.DataFrame(data_buffer, index=None)\n",
    "    data_buffer_df[\"rating\"] = scaler.transform(data_buffer_df[\"rating\"].values.reshape(-1, 1))\n",
    "    print(f\"[BATCH {batch_id}] Data scaled\")\n",
    "\n",
    "    data_buffer_df[\"userId\"] = data_buffer_df[\"userId\"].map(user2idx)\n",
    "    data_buffer_df[\"movieId\"] = data_buffer_df[\"movieId\"].map(item2idx)\n",
    "\n",
    "    dataset = MovieLensDataset(data_buffer_df)\n",
    "\n",
    "    train_size = int(0.8 * len(dataset))\n",
    "    val_size = len(dataset) - train_size\n",
    "    train_dataset, val_dataset = random_split(dataset, [train_size, val_size])\n",
    "\n",
    "    train_loader = DataLoader(train_dataset, batch_size=BATCH_SIZE, shuffle=True)\n",
    "    val_loader = DataLoader(val_dataset, batch_size=BATCH_SIZE, shuffle=False)\n",
    "\n",
    "    print(f\"[BATCH {batch_id}] All preprocessing done\")\n",
    "\n",
    "    print(f\"[BATCH {batch_id}] Fitting Model\")\n",
    "    model.fit(train_loader, val_loader, test_loader, 10)\n",
    "    print(f\"[BATCH {batch_id}] Model fitted\")\n",
    "\n",
    "    torch.save(model.state_dict(), \"model.pth\")\n",
    "    print(f\"[BATCH {batch_id}] Model saved\")\n",
    "\n",
    "    # clear data buffer\n",
    "    broad_data_buffer = sc.broadcast([])\n",
    "    \n",
    "\n",
    "query = (\n",
    "    data.writeStream.trigger(processingTime=\"10 seconds\")\n",
    "    .foreachBatch(fine_tune)\n",
    "    .start()\n",
    ")\n",
    "\n",
    "if not query.awaitTermination(18000):\n",
    "    query.stop()"
   ]
  }
 ],
 "metadata": {
  "kernelspec": {
   "display_name": "Python 3",
   "language": "python",
   "name": "python3"
  },
  "language_info": {
   "codemirror_mode": {
    "name": "ipython",
    "version": 3
   },
   "file_extension": ".py",
   "mimetype": "text/x-python",
   "name": "python",
   "nbconvert_exporter": "python",
   "pygments_lexer": "ipython3",
   "version": "3.10.12"
  }
 },
 "nbformat": 4,
 "nbformat_minor": 2
}
